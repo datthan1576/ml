{
 "cells": [
  {
   "cell_type": "code",
   "execution_count": 1,
   "id": "0deaa0c1",
   "metadata": {
    "_cell_guid": "b1076dfc-b9ad-4769-8c92-a6c4dae69d19",
    "_uuid": "8f2839f25d086af736a60e9eeb907d3b93b6e0e5",
    "execution": {
     "iopub.execute_input": "2023-10-25T18:10:06.236601Z",
     "iopub.status.busy": "2023-10-25T18:10:06.235769Z",
     "iopub.status.idle": "2023-10-25T18:10:10.032141Z",
     "shell.execute_reply": "2023-10-25T18:10:10.031362Z"
    },
    "papermill": {
     "duration": 3.805381,
     "end_time": "2023-10-25T18:10:10.034395",
     "exception": false,
     "start_time": "2023-10-25T18:10:06.229014",
     "status": "completed"
    },
    "tags": []
   },
   "outputs": [],
   "source": [
    "import os\n",
    "import pandas as pd\n",
    "import numpy as np\n",
    "\n",
    "import torch\n",
    "import torch.nn as nn\n",
    "from torch.utils.data import Dataset, DataLoader\n",
    "\n",
    "from datetime import datetime\n",
    "from tqdm import tqdm\n",
    "from glob import glob"
   ]
  },
  {
   "cell_type": "code",
   "execution_count": 2,
   "id": "75df3059",
   "metadata": {
    "execution": {
     "iopub.execute_input": "2023-10-25T18:10:10.046607Z",
     "iopub.status.busy": "2023-10-25T18:10:10.046216Z",
     "iopub.status.idle": "2023-10-25T18:10:10.050067Z",
     "shell.execute_reply": "2023-10-25T18:10:10.049278Z"
    },
    "papermill": {
     "duration": 0.011797,
     "end_time": "2023-10-25T18:10:10.052025",
     "exception": false,
     "start_time": "2023-10-25T18:10:10.040228",
     "status": "completed"
    },
    "tags": []
   },
   "outputs": [],
   "source": [
    "CUDA_DEV = 0\n",
    "NUM_TAGS = 256"
   ]
  },
  {
   "cell_type": "code",
   "execution_count": 3,
   "id": "5163d32e",
   "metadata": {
    "execution": {
     "iopub.execute_input": "2023-10-25T18:10:10.062768Z",
     "iopub.status.busy": "2023-10-25T18:10:10.062495Z",
     "iopub.status.idle": "2023-10-25T18:10:10.127127Z",
     "shell.execute_reply": "2023-10-25T18:10:10.126163Z"
    },
    "papermill": {
     "duration": 0.07263,
     "end_time": "2023-10-25T18:10:10.129469",
     "exception": false,
     "start_time": "2023-10-25T18:10:10.056839",
     "status": "completed"
    },
    "tags": []
   },
   "outputs": [],
   "source": [
    "data_dir = '/kaggle/input/yandex-cup-2023-recsys'\n",
    "emb_dir = 'track_embeddings'\n",
    "\n",
    "df_train = pd.read_csv(os.path.join(data_dir, 'train.csv'))\n",
    "df_test = pd.read_csv(os.path.join(data_dir, 'test.csv'))"
   ]
  },
  {
   "cell_type": "code",
   "execution_count": 4,
   "id": "532c952f",
   "metadata": {
    "execution": {
     "iopub.execute_input": "2023-10-25T18:10:10.141322Z",
     "iopub.status.busy": "2023-10-25T18:10:10.140592Z",
     "iopub.status.idle": "2023-10-25T18:19:49.233358Z",
     "shell.execute_reply": "2023-10-25T18:19:49.232272Z"
    },
    "papermill": {
     "duration": 579.100605,
     "end_time": "2023-10-25T18:19:49.235314",
     "exception": false,
     "start_time": "2023-10-25T18:10:10.134709",
     "status": "completed"
    },
    "tags": []
   },
   "outputs": [
    {
     "name": "stderr",
     "output_type": "stream",
     "text": [
      "100%|██████████| 76714/76714 [09:38<00:00, 132.70it/s]\n"
     ]
    },
    {
     "data": {
      "text/plain": [
       "76714"
      ]
     },
     "execution_count": 4,
     "metadata": {},
     "output_type": "execute_result"
    }
   ],
   "source": [
    "track_idx2embeds = {}\n",
    "for fn in tqdm(glob(os.path.join(data_dir, emb_dir) + '/*')):\n",
    "    filename = os.path.basename(fn)\n",
    "    track_idx = int(os.path.splitext(filename)[0])\n",
    "    embeds = np.load(fn)\n",
    "    track_idx2embeds[track_idx] = embeds\n",
    "\n",
    "len(track_idx2embeds)"
   ]
  },
  {
   "cell_type": "code",
   "execution_count": 5,
   "id": "59919dd8",
   "metadata": {
    "execution": {
     "iopub.execute_input": "2023-10-25T18:19:50.026254Z",
     "iopub.status.busy": "2023-10-25T18:19:50.025878Z",
     "iopub.status.idle": "2023-10-25T18:19:50.032726Z",
     "shell.execute_reply": "2023-10-25T18:19:50.031847Z"
    },
    "papermill": {
     "duration": 0.407132,
     "end_time": "2023-10-25T18:19:50.034647",
     "exception": false,
     "start_time": "2023-10-25T18:19:49.627515",
     "status": "completed"
    },
    "tags": []
   },
   "outputs": [],
   "source": [
    "class TaggingDataset(Dataset):\n",
    "    def __init__(self, df, testing=False):\n",
    "        self.df = df\n",
    "        self.testing = testing\n",
    "        \n",
    "    def __len__(self):\n",
    "        return self.df.shape[0]\n",
    "\n",
    "    def __getitem__(self, idx):\n",
    "        row = self.df.iloc[idx]\n",
    "        track_idx = row.track\n",
    "        embeds = track_idx2embeds[track_idx]\n",
    "        if self.testing:\n",
    "            return track_idx, embeds\n",
    "        tags = [int(x) for x in row.tags.split(',')]\n",
    "        target = np.zeros(NUM_TAGS)\n",
    "        target[tags] = 1\n",
    "        return track_idx, embeds, target"
   ]
  },
  {
   "cell_type": "code",
   "execution_count": 6,
   "id": "65aebe88",
   "metadata": {
    "execution": {
     "iopub.execute_input": "2023-10-25T18:19:50.878523Z",
     "iopub.status.busy": "2023-10-25T18:19:50.878145Z",
     "iopub.status.idle": "2023-10-25T18:19:50.882453Z",
     "shell.execute_reply": "2023-10-25T18:19:50.881602Z"
    },
    "papermill": {
     "duration": 0.4058,
     "end_time": "2023-10-25T18:19:50.884349",
     "exception": false,
     "start_time": "2023-10-25T18:19:50.478549",
     "status": "completed"
    },
    "tags": []
   },
   "outputs": [],
   "source": [
    "train_dataset = TaggingDataset(df_train)\n",
    "test_dataset = TaggingDataset(df_test, True)"
   ]
  },
  {
   "cell_type": "code",
   "execution_count": 7,
   "id": "69a7fbb3",
   "metadata": {
    "execution": {
     "iopub.execute_input": "2023-10-25T18:19:51.726614Z",
     "iopub.status.busy": "2023-10-25T18:19:51.726233Z",
     "iopub.status.idle": "2023-10-25T18:19:51.735428Z",
     "shell.execute_reply": "2023-10-25T18:19:51.734357Z"
    },
    "papermill": {
     "duration": 0.445146,
     "end_time": "2023-10-25T18:19:51.737465",
     "exception": false,
     "start_time": "2023-10-25T18:19:51.292319",
     "status": "completed"
    },
    "tags": []
   },
   "outputs": [],
   "source": [
    "class Network(nn.Module):\n",
    "    def __init__(\n",
    "        self,\n",
    "        num_classes = NUM_TAGS,\n",
    "        input_dim = 768,\n",
    "        hidden_dim = 512\n",
    "    ):\n",
    "        super().__init__()\n",
    "        self.num_classes = num_classes\n",
    "        self.bn = nn.LayerNorm(hidden_dim)\n",
    "        self.projector =  nn.Linear(input_dim, hidden_dim)\n",
    "        self.lin = nn.Sequential(\n",
    "            nn.Linear(hidden_dim, hidden_dim),\n",
    "            nn.ReLU(),\n",
    "            nn.Linear(hidden_dim, hidden_dim),\n",
    "            nn.LayerNorm(hidden_dim)\n",
    "        )\n",
    "        self.fc = nn.Linear(hidden_dim, num_classes)\n",
    "        \n",
    "\n",
    "    def forward(self, embeds):\n",
    "        x = [self.projector(x) for x in embeds]\n",
    "        x = [v.mean(0).unsqueeze(0) for v in x]\n",
    "        x = self.bn(torch.cat(x, dim = 0))\n",
    "        x = self.lin(x)\n",
    "        outs = self.fc(x)\n",
    "        return outs\n"
   ]
  },
  {
   "cell_type": "code",
   "execution_count": 8,
   "id": "bbf6e3c8",
   "metadata": {
    "execution": {
     "iopub.execute_input": "2023-10-25T18:19:52.633302Z",
     "iopub.status.busy": "2023-10-25T18:19:52.632922Z",
     "iopub.status.idle": "2023-10-25T18:19:52.640780Z",
     "shell.execute_reply": "2023-10-25T18:19:52.639850Z"
    },
    "papermill": {
     "duration": 0.418146,
     "end_time": "2023-10-25T18:19:52.643126",
     "exception": false,
     "start_time": "2023-10-25T18:19:52.224980",
     "status": "completed"
    },
    "tags": []
   },
   "outputs": [],
   "source": [
    "def train_epoch(model, loader, criterion, optimizer):\n",
    "    model.train()\n",
    "    running_loss = None\n",
    "    alpha = 0.8\n",
    "    for iteration,data in enumerate(loader):\n",
    "        optimizer.zero_grad()\n",
    "        track_idxs, embeds, target = data\n",
    "        embeds = [x.to(CUDA_DEV) for x in embeds]\n",
    "        target = target.to(CUDA_DEV)\n",
    "        pred_logits = model(embeds)\n",
    "        pred_probs = torch.sigmoid(pred_logits)\n",
    "        ce_loss = criterion(pred_logits, target)\n",
    "        ce_loss.backward()\n",
    "        optimizer.step()\n",
    "        \n",
    "        if running_loss is None:\n",
    "            running_loss = ce_loss.item()\n",
    "        else:\n",
    "            running_loss = alpha * running_loss + (1 - alpha) * ce_loss.item()\n",
    "        if iteration % 100 == 0:\n",
    "            print('   {} batch {} loss {}'.format(\n",
    "                datetime.now(), iteration + 1, running_loss\n",
    "            ))"
   ]
  },
  {
   "cell_type": "code",
   "execution_count": 9,
   "id": "78ce2398",
   "metadata": {
    "execution": {
     "iopub.execute_input": "2023-10-25T18:19:53.441424Z",
     "iopub.status.busy": "2023-10-25T18:19:53.441049Z",
     "iopub.status.idle": "2023-10-25T18:19:53.447678Z",
     "shell.execute_reply": "2023-10-25T18:19:53.446787Z"
    },
    "papermill": {
     "duration": 0.406314,
     "end_time": "2023-10-25T18:19:53.449649",
     "exception": false,
     "start_time": "2023-10-25T18:19:53.043335",
     "status": "completed"
    },
    "tags": []
   },
   "outputs": [],
   "source": [
    "def predict(model, loader):\n",
    "    model.eval()\n",
    "    track_idxs = []\n",
    "    predictions = []\n",
    "    with torch.no_grad():\n",
    "        for data in loader:\n",
    "            track_idx, embeds = data\n",
    "            embeds = [x.to(CUDA_DEV) for x in embeds]\n",
    "            pred_logits = model(embeds)\n",
    "            pred_probs = torch.sigmoid(pred_logits)\n",
    "            predictions.append(pred_probs.cpu().numpy())\n",
    "            track_idxs.append(track_idx.numpy())\n",
    "    predictions = np.vstack(predictions)\n",
    "    track_idxs = np.vstack(track_idxs).ravel()\n",
    "    return track_idxs, predictions"
   ]
  },
  {
   "cell_type": "code",
   "execution_count": 10,
   "id": "7c4e6480",
   "metadata": {
    "execution": {
     "iopub.execute_input": "2023-10-25T18:19:54.291709Z",
     "iopub.status.busy": "2023-10-25T18:19:54.291349Z",
     "iopub.status.idle": "2023-10-25T18:19:54.298059Z",
     "shell.execute_reply": "2023-10-25T18:19:54.297159Z"
    },
    "papermill": {
     "duration": 0.455779,
     "end_time": "2023-10-25T18:19:54.299925",
     "exception": false,
     "start_time": "2023-10-25T18:19:53.844146",
     "status": "completed"
    },
    "tags": []
   },
   "outputs": [],
   "source": [
    "def collate_fn(b):\n",
    "    track_idxs = torch.from_numpy(np.vstack([x[0] for x in b]))\n",
    "    embeds = [torch.from_numpy(x[1]) for x in b]\n",
    "    targets = np.vstack([x[2] for x in b])\n",
    "    targets = torch.from_numpy(targets)\n",
    "    return track_idxs, embeds, targets\n",
    "\n",
    "def collate_fn_test(b):\n",
    "    track_idxs = torch.from_numpy(np.vstack([x[0] for x in b]))\n",
    "    embeds = [torch.from_numpy(x[1]) for x in b]\n",
    "    return track_idxs, embeds"
   ]
  },
  {
   "cell_type": "code",
   "execution_count": 11,
   "id": "139ac8f0",
   "metadata": {
    "execution": {
     "iopub.execute_input": "2023-10-25T18:19:55.089859Z",
     "iopub.status.busy": "2023-10-25T18:19:55.089508Z",
     "iopub.status.idle": "2023-10-25T18:19:55.094569Z",
     "shell.execute_reply": "2023-10-25T18:19:55.093698Z"
    },
    "papermill": {
     "duration": 0.403513,
     "end_time": "2023-10-25T18:19:55.096316",
     "exception": false,
     "start_time": "2023-10-25T18:19:54.692803",
     "status": "completed"
    },
    "tags": []
   },
   "outputs": [],
   "source": [
    "train_dataloader = DataLoader(train_dataset, batch_size=128, shuffle=True, collate_fn=collate_fn)\n",
    "test_dataloader = DataLoader(test_dataset, batch_size=128, shuffle=False, collate_fn=collate_fn_test)"
   ]
  },
  {
   "cell_type": "code",
   "execution_count": 12,
   "id": "d7471217",
   "metadata": {
    "execution": {
     "iopub.execute_input": "2023-10-25T18:19:55.886975Z",
     "iopub.status.busy": "2023-10-25T18:19:55.886354Z",
     "iopub.status.idle": "2023-10-25T18:47:08.023851Z",
     "shell.execute_reply": "2023-10-25T18:47:08.022897Z"
    },
    "papermill": {
     "duration": 1632.538829,
     "end_time": "2023-10-25T18:47:08.026528",
     "exception": false,
     "start_time": "2023-10-25T18:19:55.487699",
     "status": "completed"
    },
    "tags": []
   },
   "outputs": [
    {
     "name": "stderr",
     "output_type": "stream",
     "text": [
      "  0%|          | 0/100 [00:00<?, ?it/s]"
     ]
    },
    {
     "name": "stdout",
     "output_type": "stream",
     "text": [
      "   2023-10-25 18:20:00.689212 batch 1 loss 0.7380401492561646\n",
      "   2023-10-25 18:20:04.804588 batch 101 loss 0.08221160314581685\n",
      "   2023-10-25 18:20:08.871037 batch 201 loss 0.06677076556559228\n",
      "   2023-10-25 18:20:12.971962 batch 301 loss 0.06113852584081181\n"
     ]
    },
    {
     "name": "stderr",
     "output_type": "stream",
     "text": [
      "  1%|          | 1/100 [00:18<29:50, 18.08s/it]"
     ]
    },
    {
     "name": "stdout",
     "output_type": "stream",
     "text": [
      "   2023-10-25 18:20:16.993327 batch 1 loss 0.06180681880682215\n",
      "   2023-10-25 18:20:21.088439 batch 101 loss 0.05847679932389772\n",
      "   2023-10-25 18:20:25.235757 batch 201 loss 0.05609370486928812\n",
      "   2023-10-25 18:20:29.351700 batch 301 loss 0.05563216616552631\n"
     ]
    },
    {
     "name": "stderr",
     "output_type": "stream",
     "text": [
      "  2%|▏         | 2/100 [00:34<27:55, 17.10s/it]"
     ]
    },
    {
     "name": "stdout",
     "output_type": "stream",
     "text": [
      "   2023-10-25 18:20:33.405447 batch 1 loss 0.05833762639696083\n",
      "   2023-10-25 18:20:37.459470 batch 101 loss 0.053852809040926826\n",
      "   2023-10-25 18:20:41.529177 batch 201 loss 0.052677309672474464\n",
      "   2023-10-25 18:20:45.551341 batch 301 loss 0.05293379023092989\n"
     ]
    },
    {
     "name": "stderr",
     "output_type": "stream",
     "text": [
      "  3%|▎         | 3/100 [00:50<26:56, 16.67s/it]"
     ]
    },
    {
     "name": "stdout",
     "output_type": "stream",
     "text": [
      "   2023-10-25 18:20:49.555066 batch 1 loss 0.048718741509699015\n",
      "   2023-10-25 18:20:53.605134 batch 101 loss 0.05188734073392412\n",
      "   2023-10-25 18:20:57.844088 batch 201 loss 0.05098870696460726\n",
      "   2023-10-25 18:21:01.997918 batch 301 loss 0.0493686198414952\n"
     ]
    },
    {
     "name": "stderr",
     "output_type": "stream",
     "text": [
      "  4%|▍         | 4/100 [01:07<26:32, 16.58s/it]"
     ]
    },
    {
     "name": "stdout",
     "output_type": "stream",
     "text": [
      "   2023-10-25 18:21:06.013501 batch 1 loss 0.052855650206267146\n",
      "   2023-10-25 18:21:10.011023 batch 101 loss 0.050590014912497955\n",
      "   2023-10-25 18:21:14.081833 batch 201 loss 0.04960063489046956\n",
      "   2023-10-25 18:21:18.103920 batch 301 loss 0.05064226500965645\n"
     ]
    },
    {
     "name": "stderr",
     "output_type": "stream",
     "text": [
      "  5%|▌         | 5/100 [01:23<25:59, 16.42s/it]"
     ]
    },
    {
     "name": "stdout",
     "output_type": "stream",
     "text": [
      "   2023-10-25 18:21:22.128981 batch 1 loss 0.048388380770878925\n",
      "   2023-10-25 18:21:26.219409 batch 101 loss 0.047954737735023546\n",
      "   2023-10-25 18:21:30.334947 batch 201 loss 0.047308004824893224\n",
      "   2023-10-25 18:21:34.388579 batch 301 loss 0.0487684543892852\n"
     ]
    },
    {
     "name": "stderr",
     "output_type": "stream",
     "text": [
      "  6%|▌         | 6/100 [01:39<25:39, 16.38s/it]"
     ]
    },
    {
     "name": "stdout",
     "output_type": "stream",
     "text": [
      "   2023-10-25 18:21:38.431132 batch 1 loss 0.04823226074432185\n",
      "   2023-10-25 18:21:42.486786 batch 101 loss 0.04719236996655274\n",
      "   2023-10-25 18:21:46.522359 batch 201 loss 0.047912046282786724\n",
      "   2023-10-25 18:21:50.552771 batch 301 loss 0.04829571363579562\n"
     ]
    },
    {
     "name": "stderr",
     "output_type": "stream",
     "text": [
      "  7%|▋         | 7/100 [01:55<25:16, 16.31s/it]"
     ]
    },
    {
     "name": "stdout",
     "output_type": "stream",
     "text": [
      "   2023-10-25 18:21:54.588637 batch 1 loss 0.045794874134823915\n",
      "   2023-10-25 18:21:58.686977 batch 101 loss 0.04629958911879592\n",
      "   2023-10-25 18:22:02.840034 batch 201 loss 0.04761958702217688\n",
      "   2023-10-25 18:22:06.870596 batch 301 loss 0.0464652025637487\n"
     ]
    },
    {
     "name": "stderr",
     "output_type": "stream",
     "text": [
      "  8%|▊         | 8/100 [02:11<24:59, 16.30s/it]"
     ]
    },
    {
     "name": "stdout",
     "output_type": "stream",
     "text": [
      "   2023-10-25 18:22:10.868624 batch 1 loss 0.04698114000202899\n",
      "   2023-10-25 18:22:14.880422 batch 101 loss 0.04621104226145992\n",
      "   2023-10-25 18:22:18.880828 batch 201 loss 0.04510951288993498\n",
      "   2023-10-25 18:22:22.931557 batch 301 loss 0.04627557350558701\n"
     ]
    },
    {
     "name": "stderr",
     "output_type": "stream",
     "text": [
      "  9%|▉         | 9/100 [02:28<24:36, 16.23s/it]"
     ]
    },
    {
     "name": "stdout",
     "output_type": "stream",
     "text": [
      "   2023-10-25 18:22:26.937674 batch 1 loss 0.043499826263864616\n",
      "   2023-10-25 18:22:31.118372 batch 101 loss 0.045163988783401006\n",
      "   2023-10-25 18:22:35.195850 batch 201 loss 0.04605355761160327\n",
      "   2023-10-25 18:22:39.220628 batch 301 loss 0.045799375057137916\n"
     ]
    },
    {
     "name": "stderr",
     "output_type": "stream",
     "text": [
      " 10%|█         | 10/100 [02:44<24:24, 16.28s/it]"
     ]
    },
    {
     "name": "stdout",
     "output_type": "stream",
     "text": [
      "   2023-10-25 18:22:43.329847 batch 1 loss 0.048115097944308516\n",
      "   2023-10-25 18:22:47.365559 batch 101 loss 0.045273197432914046\n",
      "   2023-10-25 18:22:51.447308 batch 201 loss 0.045436168967921964\n",
      "   2023-10-25 18:22:55.500461 batch 301 loss 0.04468738163944635\n"
     ]
    },
    {
     "name": "stderr",
     "output_type": "stream",
     "text": [
      " 11%|█         | 11/100 [03:00<24:07, 16.26s/it]"
     ]
    },
    {
     "name": "stdout",
     "output_type": "stream",
     "text": [
      "   2023-10-25 18:22:59.546290 batch 1 loss 0.045124971179113155\n",
      "   2023-10-25 18:23:03.864988 batch 101 loss 0.04462090630704797\n",
      "   2023-10-25 18:23:07.889161 batch 201 loss 0.045185046799056286\n",
      "   2023-10-25 18:23:11.945228 batch 301 loss 0.045199442696605516\n"
     ]
    },
    {
     "name": "stderr",
     "output_type": "stream",
     "text": [
      " 12%|█▏        | 12/100 [03:17<23:56, 16.33s/it]"
     ]
    },
    {
     "name": "stdout",
     "output_type": "stream",
     "text": [
      "   2023-10-25 18:23:16.031673 batch 1 loss 0.044619993594302534\n",
      "   2023-10-25 18:23:20.063151 batch 101 loss 0.044989912209800115\n",
      "   2023-10-25 18:23:24.098613 batch 201 loss 0.045098571064107904\n",
      "   2023-10-25 18:23:28.119495 batch 301 loss 0.04399157140399525\n"
     ]
    },
    {
     "name": "stderr",
     "output_type": "stream",
     "text": [
      " 13%|█▎        | 13/100 [03:33<23:39, 16.31s/it]"
     ]
    },
    {
     "name": "stdout",
     "output_type": "stream",
     "text": [
      "   2023-10-25 18:23:32.311478 batch 1 loss 0.04150987304445993\n",
      "   2023-10-25 18:23:36.370324 batch 101 loss 0.04445278391337641\n",
      "   2023-10-25 18:23:40.408184 batch 201 loss 0.0445897543170139\n",
      "   2023-10-25 18:23:44.467209 batch 301 loss 0.043940671358534106\n"
     ]
    },
    {
     "name": "stderr",
     "output_type": "stream",
     "text": [
      " 14%|█▍        | 14/100 [03:49<23:19, 16.27s/it]"
     ]
    },
    {
     "name": "stdout",
     "output_type": "stream",
     "text": [
      "   2023-10-25 18:23:48.478274 batch 1 loss 0.042527387810392545\n",
      "   2023-10-25 18:23:52.536228 batch 101 loss 0.04407666809617196\n",
      "   2023-10-25 18:23:56.578875 batch 201 loss 0.04332529685467119\n",
      "   2023-10-25 18:24:00.596768 batch 301 loss 0.04407340968274134\n"
     ]
    },
    {
     "name": "stderr",
     "output_type": "stream",
     "text": [
      " 15%|█▌        | 15/100 [04:05<23:04, 16.29s/it]"
     ]
    },
    {
     "name": "stdout",
     "output_type": "stream",
     "text": [
      "   2023-10-25 18:24:04.807429 batch 1 loss 0.043281685315350184\n",
      "   2023-10-25 18:24:08.848599 batch 101 loss 0.04327949361363884\n",
      "   2023-10-25 18:24:12.920786 batch 201 loss 0.043095643880390694\n",
      "   2023-10-25 18:24:16.955835 batch 301 loss 0.04355063953299182\n"
     ]
    },
    {
     "name": "stderr",
     "output_type": "stream",
     "text": [
      " 16%|█▌        | 16/100 [04:22<22:45, 16.26s/it]"
     ]
    },
    {
     "name": "stdout",
     "output_type": "stream",
     "text": [
      "   2023-10-25 18:24:20.995967 batch 1 loss 0.04514786257245247\n",
      "   2023-10-25 18:24:25.017820 batch 101 loss 0.043228896916173876\n",
      "   2023-10-25 18:24:29.029767 batch 201 loss 0.043520257799909826\n",
      "   2023-10-25 18:24:33.097318 batch 301 loss 0.041668585520302906\n"
     ]
    },
    {
     "name": "stderr",
     "output_type": "stream",
     "text": [
      " 17%|█▋        | 17/100 [04:38<22:28, 16.25s/it]"
     ]
    },
    {
     "name": "stdout",
     "output_type": "stream",
     "text": [
      "   2023-10-25 18:24:37.225982 batch 1 loss 0.045718156768101904\n",
      "   2023-10-25 18:24:41.257669 batch 101 loss 0.041944832034322\n",
      "   2023-10-25 18:24:45.255565 batch 201 loss 0.043605641033851575\n",
      "   2023-10-25 18:24:49.266578 batch 301 loss 0.043023118724716876\n"
     ]
    },
    {
     "name": "stderr",
     "output_type": "stream",
     "text": [
      " 18%|█▊        | 18/100 [04:54<22:10, 16.22s/it]"
     ]
    },
    {
     "name": "stdout",
     "output_type": "stream",
     "text": [
      "   2023-10-25 18:24:53.387699 batch 1 loss 0.04162969793013786\n",
      "   2023-10-25 18:24:57.400769 batch 101 loss 0.04492240045307235\n",
      "   2023-10-25 18:25:01.467199 batch 201 loss 0.042506937364097906\n",
      "   2023-10-25 18:25:05.553979 batch 301 loss 0.04248855897943678\n"
     ]
    },
    {
     "name": "stderr",
     "output_type": "stream",
     "text": [
      " 19%|█▉        | 19/100 [05:10<21:54, 16.23s/it]"
     ]
    },
    {
     "name": "stdout",
     "output_type": "stream",
     "text": [
      "   2023-10-25 18:25:09.617613 batch 1 loss 0.04321522372055403\n",
      "   2023-10-25 18:25:13.677828 batch 101 loss 0.04380601636028917\n",
      "   2023-10-25 18:25:17.730038 batch 201 loss 0.04352806572381997\n",
      "   2023-10-25 18:25:21.784390 batch 301 loss 0.0443972533077715\n"
     ]
    },
    {
     "name": "stderr",
     "output_type": "stream",
     "text": [
      " 20%|██        | 20/100 [05:26<21:37, 16.22s/it]"
     ]
    },
    {
     "name": "stdout",
     "output_type": "stream",
     "text": [
      "   2023-10-25 18:25:25.811763 batch 1 loss 0.03665109337616339\n",
      "   2023-10-25 18:25:29.883937 batch 101 loss 0.04322077667346569\n",
      "   2023-10-25 18:25:34.016691 batch 201 loss 0.042271945779563225\n",
      "   2023-10-25 18:25:38.176413 batch 301 loss 0.04284365086960353\n"
     ]
    },
    {
     "name": "stderr",
     "output_type": "stream",
     "text": [
      " 21%|██        | 21/100 [05:43<21:25, 16.27s/it]"
     ]
    },
    {
     "name": "stdout",
     "output_type": "stream",
     "text": [
      "   2023-10-25 18:25:42.202476 batch 1 loss 0.041474817928936605\n",
      "   2023-10-25 18:25:46.210884 batch 101 loss 0.041055567286396366\n",
      "   2023-10-25 18:25:50.218931 batch 201 loss 0.0428714843285661\n",
      "   2023-10-25 18:25:54.299369 batch 301 loss 0.042880781688627106\n"
     ]
    },
    {
     "name": "stderr",
     "output_type": "stream",
     "text": [
      " 22%|██▏       | 22/100 [05:59<21:08, 16.26s/it]"
     ]
    },
    {
     "name": "stdout",
     "output_type": "stream",
     "text": [
      "   2023-10-25 18:25:58.441560 batch 1 loss 0.03512247411873238\n",
      "   2023-10-25 18:26:02.519382 batch 101 loss 0.04043881744591721\n",
      "   2023-10-25 18:26:06.637584 batch 201 loss 0.040884224612767354\n",
      "   2023-10-25 18:26:10.854551 batch 301 loss 0.04280920395729933\n"
     ]
    },
    {
     "name": "stderr",
     "output_type": "stream",
     "text": [
      " 23%|██▎       | 23/100 [06:15<20:56, 16.31s/it]"
     ]
    },
    {
     "name": "stdout",
     "output_type": "stream",
     "text": [
      "   2023-10-25 18:26:14.882073 batch 1 loss 0.03946293095142253\n",
      "   2023-10-25 18:26:18.903260 batch 101 loss 0.04033556082373935\n",
      "   2023-10-25 18:26:22.949763 batch 201 loss 0.040910897205627676\n",
      "   2023-10-25 18:26:26.957961 batch 301 loss 0.04245210733175943\n"
     ]
    },
    {
     "name": "stderr",
     "output_type": "stream",
     "text": [
      " 24%|██▍       | 24/100 [06:32<20:35, 16.25s/it]"
     ]
    },
    {
     "name": "stdout",
     "output_type": "stream",
     "text": [
      "   2023-10-25 18:26:30.991123 batch 1 loss 0.041677884843882955\n",
      "   2023-10-25 18:26:35.012401 batch 101 loss 0.039978061296239424\n",
      "   2023-10-25 18:26:39.140701 batch 201 loss 0.041753194141659455\n",
      "   2023-10-25 18:26:43.357494 batch 301 loss 0.041415345357421224\n"
     ]
    },
    {
     "name": "stderr",
     "output_type": "stream",
     "text": [
      " 25%|██▌       | 25/100 [06:48<20:21, 16.29s/it]"
     ]
    },
    {
     "name": "stdout",
     "output_type": "stream",
     "text": [
      "   2023-10-25 18:26:47.375776 batch 1 loss 0.03686500038459173\n",
      "   2023-10-25 18:26:51.448099 batch 101 loss 0.04040344137354556\n",
      "   2023-10-25 18:26:55.507525 batch 201 loss 0.04082171493417241\n",
      "   2023-10-25 18:26:59.548873 batch 301 loss 0.0408648157370157\n"
     ]
    },
    {
     "name": "stderr",
     "output_type": "stream",
     "text": [
      " 26%|██▌       | 26/100 [07:04<20:03, 16.27s/it]"
     ]
    },
    {
     "name": "stdout",
     "output_type": "stream",
     "text": [
      "   2023-10-25 18:27:03.592860 batch 1 loss 0.04353278135216791\n",
      "   2023-10-25 18:27:07.705468 batch 101 loss 0.040153939895287934\n",
      "   2023-10-25 18:27:11.896096 batch 201 loss 0.04127061029972911\n",
      "   2023-10-25 18:27:15.972939 batch 301 loss 0.04025091807406611\n"
     ]
    },
    {
     "name": "stderr",
     "output_type": "stream",
     "text": [
      " 27%|██▋       | 27/100 [07:21<19:52, 16.33s/it]"
     ]
    },
    {
     "name": "stdout",
     "output_type": "stream",
     "text": [
      "   2023-10-25 18:27:20.069708 batch 1 loss 0.03773182573510324\n",
      "   2023-10-25 18:27:24.116963 batch 101 loss 0.04122237273862238\n",
      "   2023-10-25 18:27:28.141221 batch 201 loss 0.040541791049106365\n",
      "   2023-10-25 18:27:32.181031 batch 301 loss 0.04077306044429756\n"
     ]
    },
    {
     "name": "stderr",
     "output_type": "stream",
     "text": [
      " 28%|██▊       | 28/100 [07:37<19:33, 16.29s/it]"
     ]
    },
    {
     "name": "stdout",
     "output_type": "stream",
     "text": [
      "   2023-10-25 18:27:36.274669 batch 1 loss 0.036808775066747006\n",
      "   2023-10-25 18:27:40.328695 batch 101 loss 0.0390007678162455\n",
      "   2023-10-25 18:27:44.635110 batch 201 loss 0.0408749346256639\n",
      "   2023-10-25 18:27:48.634713 batch 301 loss 0.040575586609459334\n"
     ]
    },
    {
     "name": "stderr",
     "output_type": "stream",
     "text": [
      " 29%|██▉       | 29/100 [07:53<19:18, 16.32s/it]"
     ]
    },
    {
     "name": "stdout",
     "output_type": "stream",
     "text": [
      "   2023-10-25 18:27:52.657706 batch 1 loss 0.0387051278734879\n",
      "   2023-10-25 18:27:56.709064 batch 101 loss 0.04042715615192809\n",
      "   2023-10-25 18:28:00.744712 batch 201 loss 0.03976899625067684\n",
      "   2023-10-25 18:28:04.810915 batch 301 loss 0.04010958579575039\n"
     ]
    },
    {
     "name": "stderr",
     "output_type": "stream",
     "text": [
      " 30%|███       | 30/100 [08:09<19:00, 16.30s/it]"
     ]
    },
    {
     "name": "stdout",
     "output_type": "stream",
     "text": [
      "   2023-10-25 18:28:08.896703 batch 1 loss 0.041378650631729116\n",
      "   2023-10-25 18:28:13.000352 batch 101 loss 0.039908134221743406\n",
      "   2023-10-25 18:28:17.123416 batch 201 loss 0.03924793557759719\n",
      "   2023-10-25 18:28:21.164300 batch 301 loss 0.03986236155060219\n"
     ]
    },
    {
     "name": "stderr",
     "output_type": "stream",
     "text": [
      " 31%|███       | 31/100 [08:26<18:43, 16.29s/it]"
     ]
    },
    {
     "name": "stdout",
     "output_type": "stream",
     "text": [
      "   2023-10-25 18:28:25.165427 batch 1 loss 0.04683948319410643\n",
      "   2023-10-25 18:28:29.185593 batch 101 loss 0.04085011783087754\n",
      "   2023-10-25 18:28:33.225224 batch 201 loss 0.03956765257657194\n",
      "   2023-10-25 18:28:37.298854 batch 301 loss 0.04049754686542989\n"
     ]
    },
    {
     "name": "stderr",
     "output_type": "stream",
     "text": [
      " 32%|███▏      | 32/100 [08:42<18:28, 16.30s/it]"
     ]
    },
    {
     "name": "stdout",
     "output_type": "stream",
     "text": [
      "   2023-10-25 18:28:41.496770 batch 1 loss 0.03784356840796626\n",
      "   2023-10-25 18:28:45.567039 batch 101 loss 0.04012903661196887\n",
      "   2023-10-25 18:28:49.618652 batch 201 loss 0.039591913713508634\n",
      "   2023-10-25 18:28:53.699149 batch 301 loss 0.040146792608957114\n"
     ]
    },
    {
     "name": "stderr",
     "output_type": "stream",
     "text": [
      " 33%|███▎      | 33/100 [08:58<18:10, 16.27s/it]"
     ]
    },
    {
     "name": "stdout",
     "output_type": "stream",
     "text": [
      "   2023-10-25 18:28:57.697908 batch 1 loss 0.0394368872343512\n",
      "   2023-10-25 18:29:01.746507 batch 101 loss 0.03958408337242554\n",
      "   2023-10-25 18:29:05.795570 batch 201 loss 0.0403523810971444\n",
      "   2023-10-25 18:29:09.834138 batch 301 loss 0.04088432002645537\n"
     ]
    },
    {
     "name": "stderr",
     "output_type": "stream",
     "text": [
      " 34%|███▍      | 34/100 [09:15<17:54, 16.28s/it]"
     ]
    },
    {
     "name": "stdout",
     "output_type": "stream",
     "text": [
      "   2023-10-25 18:29:13.988292 batch 1 loss 0.04191972106913984\n",
      "   2023-10-25 18:29:18.154032 batch 101 loss 0.04064864377962038\n",
      "   2023-10-25 18:29:22.217770 batch 201 loss 0.03947677169181345\n",
      "   2023-10-25 18:29:26.255726 batch 301 loss 0.03955240367374008\n"
     ]
    },
    {
     "name": "stderr",
     "output_type": "stream",
     "text": [
      " 35%|███▌      | 35/100 [09:31<17:39, 16.29s/it]"
     ]
    },
    {
     "name": "stdout",
     "output_type": "stream",
     "text": [
      "   2023-10-25 18:29:30.320920 batch 1 loss 0.04135253473352037\n",
      "   2023-10-25 18:29:34.417781 batch 101 loss 0.03937510819422006\n",
      "   2023-10-25 18:29:38.474345 batch 201 loss 0.039711386483671285\n",
      "   2023-10-25 18:29:42.603705 batch 301 loss 0.03941406740732009\n"
     ]
    },
    {
     "name": "stderr",
     "output_type": "stream",
     "text": [
      " 36%|███▌      | 36/100 [09:47<17:24, 16.31s/it]"
     ]
    },
    {
     "name": "stdout",
     "output_type": "stream",
     "text": [
      "   2023-10-25 18:29:46.685384 batch 1 loss 0.03890863989766757\n",
      "   2023-10-25 18:29:50.764344 batch 101 loss 0.03841069868505521\n",
      "   2023-10-25 18:29:54.806722 batch 201 loss 0.03887612157961224\n",
      "   2023-10-25 18:29:58.819819 batch 301 loss 0.0401544820750039\n"
     ]
    },
    {
     "name": "stderr",
     "output_type": "stream",
     "text": [
      " 37%|███▋      | 37/100 [10:03<17:05, 16.28s/it]"
     ]
    },
    {
     "name": "stdout",
     "output_type": "stream",
     "text": [
      "   2023-10-25 18:30:02.873396 batch 1 loss 0.036833180889569245\n",
      "   2023-10-25 18:30:06.931091 batch 101 loss 0.040034118591691745\n",
      "   2023-10-25 18:30:10.962911 batch 201 loss 0.038235887366072\n",
      "   2023-10-25 18:30:15.118057 batch 301 loss 0.039224571202880004\n"
     ]
    },
    {
     "name": "stderr",
     "output_type": "stream",
     "text": [
      " 38%|███▊      | 38/100 [10:20<16:50, 16.30s/it]"
     ]
    },
    {
     "name": "stdout",
     "output_type": "stream",
     "text": [
      "   2023-10-25 18:30:19.221916 batch 1 loss 0.03925628555877805\n",
      "   2023-10-25 18:30:23.431201 batch 101 loss 0.03871379749934269\n",
      "   2023-10-25 18:30:27.456348 batch 201 loss 0.03803565136969636\n",
      "   2023-10-25 18:30:31.515721 batch 301 loss 0.03892634274643158\n"
     ]
    },
    {
     "name": "stderr",
     "output_type": "stream",
     "text": [
      " 39%|███▉      | 39/100 [10:36<16:34, 16.30s/it]"
     ]
    },
    {
     "name": "stdout",
     "output_type": "stream",
     "text": [
      "   2023-10-25 18:30:35.529341 batch 1 loss 0.03827534142731212\n",
      "   2023-10-25 18:30:39.648432 batch 101 loss 0.038019405748363086\n",
      "   2023-10-25 18:30:43.840467 batch 201 loss 0.038356693595196494\n",
      "   2023-10-25 18:30:47.899605 batch 301 loss 0.03723026193625922\n"
     ]
    },
    {
     "name": "stderr",
     "output_type": "stream",
     "text": [
      " 40%|████      | 40/100 [10:53<16:22, 16.37s/it]"
     ]
    },
    {
     "name": "stdout",
     "output_type": "stream",
     "text": [
      "   2023-10-25 18:30:52.053608 batch 1 loss 0.04170156644935813\n",
      "   2023-10-25 18:30:56.122832 batch 101 loss 0.03893772284632212\n",
      "   2023-10-25 18:31:00.183204 batch 201 loss 0.03868926496256136\n",
      "   2023-10-25 18:31:04.286491 batch 301 loss 0.03931307331391903\n"
     ]
    },
    {
     "name": "stderr",
     "output_type": "stream",
     "text": [
      " 41%|████      | 41/100 [11:09<16:03, 16.34s/it]"
     ]
    },
    {
     "name": "stdout",
     "output_type": "stream",
     "text": [
      "   2023-10-25 18:31:08.311924 batch 1 loss 0.037927209803873096\n",
      "   2023-10-25 18:31:12.366939 batch 101 loss 0.037697062065583396\n",
      "   2023-10-25 18:31:16.470176 batch 201 loss 0.03827392830839878\n",
      "   2023-10-25 18:31:20.509393 batch 301 loss 0.04029127379063277\n"
     ]
    },
    {
     "name": "stderr",
     "output_type": "stream",
     "text": [
      " 42%|████▏     | 42/100 [11:25<15:46, 16.33s/it]"
     ]
    },
    {
     "name": "stdout",
     "output_type": "stream",
     "text": [
      "   2023-10-25 18:31:24.622669 batch 1 loss 0.039993960878429796\n",
      "   2023-10-25 18:31:28.669017 batch 101 loss 0.03722140268365146\n",
      "   2023-10-25 18:31:32.722558 batch 201 loss 0.03827497320696097\n",
      "   2023-10-25 18:31:36.756126 batch 301 loss 0.03985350938933708\n"
     ]
    },
    {
     "name": "stderr",
     "output_type": "stream",
     "text": [
      " 43%|████▎     | 43/100 [11:41<15:28, 16.29s/it]"
     ]
    },
    {
     "name": "stdout",
     "output_type": "stream",
     "text": [
      "   2023-10-25 18:31:40.833435 batch 1 loss 0.04183223200161446\n",
      "   2023-10-25 18:31:44.986138 batch 101 loss 0.038316485923101405\n",
      "   2023-10-25 18:31:49.014180 batch 201 loss 0.03877596660336042\n",
      "   2023-10-25 18:31:53.082707 batch 301 loss 0.03849424503368373\n"
     ]
    },
    {
     "name": "stderr",
     "output_type": "stream",
     "text": [
      " 44%|████▍     | 44/100 [11:58<15:13, 16.31s/it]"
     ]
    },
    {
     "name": "stdout",
     "output_type": "stream",
     "text": [
      "   2023-10-25 18:31:57.190338 batch 1 loss 0.03476398104999136\n",
      "   2023-10-25 18:32:01.298779 batch 101 loss 0.03818613004642182\n",
      "   2023-10-25 18:32:05.343324 batch 201 loss 0.038487008492302736\n",
      "   2023-10-25 18:32:09.384787 batch 301 loss 0.03771793229933086\n"
     ]
    },
    {
     "name": "stderr",
     "output_type": "stream",
     "text": [
      " 45%|████▌     | 45/100 [12:14<14:56, 16.30s/it]"
     ]
    },
    {
     "name": "stdout",
     "output_type": "stream",
     "text": [
      "   2023-10-25 18:32:13.477105 batch 1 loss 0.037639185070932925\n",
      "   2023-10-25 18:32:17.578260 batch 101 loss 0.03813117771722894\n",
      "   2023-10-25 18:32:21.687674 batch 201 loss 0.038131678517577164\n",
      "   2023-10-25 18:32:25.892962 batch 301 loss 0.03881240787936505\n"
     ]
    },
    {
     "name": "stderr",
     "output_type": "stream",
     "text": [
      " 46%|████▌     | 46/100 [12:31<14:43, 16.37s/it]"
     ]
    },
    {
     "name": "stdout",
     "output_type": "stream",
     "text": [
      "   2023-10-25 18:32:29.998454 batch 1 loss 0.038406796281975596\n",
      "   2023-10-25 18:32:34.070919 batch 101 loss 0.03812868922945208\n",
      "   2023-10-25 18:32:38.145728 batch 201 loss 0.03757165458471767\n",
      "   2023-10-25 18:32:42.216534 batch 301 loss 0.03798054320591068\n"
     ]
    },
    {
     "name": "stderr",
     "output_type": "stream",
     "text": [
      " 47%|████▋     | 47/100 [12:47<14:27, 16.37s/it]"
     ]
    },
    {
     "name": "stdout",
     "output_type": "stream",
     "text": [
      "   2023-10-25 18:32:46.359237 batch 1 loss 0.034704431491229495\n",
      "   2023-10-25 18:32:50.408335 batch 101 loss 0.03739609071089692\n",
      "   2023-10-25 18:32:54.536151 batch 201 loss 0.038306655069347724\n",
      "   2023-10-25 18:32:58.647944 batch 301 loss 0.038413850030817494\n"
     ]
    },
    {
     "name": "stderr",
     "output_type": "stream",
     "text": [
      " 48%|████▊     | 48/100 [13:03<14:11, 16.37s/it]"
     ]
    },
    {
     "name": "stdout",
     "output_type": "stream",
     "text": [
      "   2023-10-25 18:33:02.723576 batch 1 loss 0.03723487159302513\n",
      "   2023-10-25 18:33:06.794780 batch 101 loss 0.03879025488936582\n",
      "   2023-10-25 18:33:10.830837 batch 201 loss 0.038945367918832574\n",
      "   2023-10-25 18:33:14.892217 batch 301 loss 0.036448217561468994\n"
     ]
    },
    {
     "name": "stderr",
     "output_type": "stream",
     "text": [
      " 49%|████▉     | 49/100 [13:20<13:53, 16.35s/it]"
     ]
    },
    {
     "name": "stdout",
     "output_type": "stream",
     "text": [
      "   2023-10-25 18:33:19.042783 batch 1 loss 0.036260314150413114\n",
      "   2023-10-25 18:33:23.154325 batch 101 loss 0.037504040016446645\n",
      "   2023-10-25 18:33:27.206654 batch 201 loss 0.03714385878470321\n",
      "   2023-10-25 18:33:31.338068 batch 301 loss 0.03769940713589014\n"
     ]
    },
    {
     "name": "stderr",
     "output_type": "stream",
     "text": [
      " 50%|█████     | 50/100 [13:36<13:37, 16.35s/it]"
     ]
    },
    {
     "name": "stdout",
     "output_type": "stream",
     "text": [
      "   2023-10-25 18:33:35.395289 batch 1 loss 0.034945236883490466\n",
      "   2023-10-25 18:33:39.466444 batch 101 loss 0.037762022561893246\n",
      "   2023-10-25 18:33:43.555863 batch 201 loss 0.037414168623703364\n",
      "   2023-10-25 18:33:47.669614 batch 301 loss 0.03624059002899676\n"
     ]
    },
    {
     "name": "stderr",
     "output_type": "stream",
     "text": [
      " 51%|█████     | 51/100 [13:52<13:20, 16.34s/it]"
     ]
    },
    {
     "name": "stdout",
     "output_type": "stream",
     "text": [
      "   2023-10-25 18:33:51.710637 batch 1 loss 0.038848179068716786\n",
      "   2023-10-25 18:33:55.725839 batch 101 loss 0.037509127392605535\n",
      "   2023-10-25 18:33:59.843585 batch 201 loss 0.037004768288689205\n",
      "   2023-10-25 18:34:03.889101 batch 301 loss 0.03744713488091318\n"
     ]
    },
    {
     "name": "stderr",
     "output_type": "stream",
     "text": [
      " 52%|█████▏    | 52/100 [14:08<13:02, 16.29s/it]"
     ]
    },
    {
     "name": "stdout",
     "output_type": "stream",
     "text": [
      "   2023-10-25 18:34:07.889093 batch 1 loss 0.040783952967282794\n",
      "   2023-10-25 18:34:11.915328 batch 101 loss 0.03676186139011783\n",
      "   2023-10-25 18:34:15.901506 batch 201 loss 0.037640719737824124\n",
      "   2023-10-25 18:34:19.936853 batch 301 loss 0.037184707275266855\n"
     ]
    },
    {
     "name": "stderr",
     "output_type": "stream",
     "text": [
      " 53%|█████▎    | 53/100 [14:25<12:42, 16.22s/it]"
     ]
    },
    {
     "name": "stdout",
     "output_type": "stream",
     "text": [
      "   2023-10-25 18:34:23.941979 batch 1 loss 0.033510643961434314\n",
      "   2023-10-25 18:34:27.942849 batch 101 loss 0.036508818268622824\n",
      "   2023-10-25 18:34:32.070680 batch 201 loss 0.03771428404343525\n",
      "   2023-10-25 18:34:36.086174 batch 301 loss 0.03836207635293762\n"
     ]
    },
    {
     "name": "stderr",
     "output_type": "stream",
     "text": [
      " 54%|█████▍    | 54/100 [14:41<12:26, 16.22s/it]"
     ]
    },
    {
     "name": "stdout",
     "output_type": "stream",
     "text": [
      "   2023-10-25 18:34:40.159115 batch 1 loss 0.03597658029551953\n",
      "   2023-10-25 18:34:44.256604 batch 101 loss 0.03766522568365629\n",
      "   2023-10-25 18:34:48.343597 batch 201 loss 0.036622345665068265\n",
      "   2023-10-25 18:34:52.398440 batch 301 loss 0.037353577553478665\n"
     ]
    },
    {
     "name": "stderr",
     "output_type": "stream",
     "text": [
      " 55%|█████▌    | 55/100 [14:57<12:10, 16.24s/it]"
     ]
    },
    {
     "name": "stdout",
     "output_type": "stream",
     "text": [
      "   2023-10-25 18:34:56.444936 batch 1 loss 0.03857920454911721\n",
      "   2023-10-25 18:35:00.510439 batch 101 loss 0.037132234747640054\n",
      "   2023-10-25 18:35:04.623578 batch 201 loss 0.03709349271890855\n",
      "   2023-10-25 18:35:08.641249 batch 301 loss 0.036513507064665336\n"
     ]
    },
    {
     "name": "stderr",
     "output_type": "stream",
     "text": [
      " 56%|█████▌    | 56/100 [15:13<11:54, 16.24s/it]"
     ]
    },
    {
     "name": "stdout",
     "output_type": "stream",
     "text": [
      "   2023-10-25 18:35:12.688011 batch 1 loss 0.03540596708148866\n",
      "   2023-10-25 18:35:16.691051 batch 101 loss 0.036336353450492236\n",
      "   2023-10-25 18:35:20.766568 batch 201 loss 0.03658535177133496\n",
      "   2023-10-25 18:35:24.790041 batch 301 loss 0.03795066862912571\n"
     ]
    },
    {
     "name": "stderr",
     "output_type": "stream",
     "text": [
      " 57%|█████▋    | 57/100 [15:29<11:36, 16.20s/it]"
     ]
    },
    {
     "name": "stdout",
     "output_type": "stream",
     "text": [
      "   2023-10-25 18:35:28.804686 batch 1 loss 0.036663297897265815\n",
      "   2023-10-25 18:35:32.834757 batch 101 loss 0.0365320390577107\n",
      "   2023-10-25 18:35:36.933862 batch 201 loss 0.03660773484819431\n",
      "   2023-10-25 18:35:40.981442 batch 301 loss 0.0361329166103812\n"
     ]
    },
    {
     "name": "stderr",
     "output_type": "stream",
     "text": [
      " 58%|█████▊    | 58/100 [15:46<11:20, 16.20s/it]"
     ]
    },
    {
     "name": "stdout",
     "output_type": "stream",
     "text": [
      "   2023-10-25 18:35:44.986679 batch 1 loss 0.03397931605714661\n",
      "   2023-10-25 18:35:49.064460 batch 101 loss 0.03631639169025572\n",
      "   2023-10-25 18:35:53.108370 batch 201 loss 0.03574661332102882\n",
      "   2023-10-25 18:35:57.165943 batch 301 loss 0.03612196445298562\n"
     ]
    },
    {
     "name": "stderr",
     "output_type": "stream",
     "text": [
      " 59%|█████▉    | 59/100 [16:02<11:04, 16.21s/it]"
     ]
    },
    {
     "name": "stdout",
     "output_type": "stream",
     "text": [
      "   2023-10-25 18:36:01.219779 batch 1 loss 0.03647280758948911\n",
      "   2023-10-25 18:36:05.319918 batch 101 loss 0.03607320816843266\n",
      "   2023-10-25 18:36:09.331843 batch 201 loss 0.03607582572812345\n",
      "   2023-10-25 18:36:13.386296 batch 301 loss 0.0362937253122904\n"
     ]
    },
    {
     "name": "stderr",
     "output_type": "stream",
     "text": [
      " 60%|██████    | 60/100 [16:18<10:47, 16.20s/it]"
     ]
    },
    {
     "name": "stdout",
     "output_type": "stream",
     "text": [
      "   2023-10-25 18:36:17.398008 batch 1 loss 0.040476280397640896\n",
      "   2023-10-25 18:36:21.463675 batch 101 loss 0.034670838008779604\n",
      "   2023-10-25 18:36:25.485745 batch 201 loss 0.03664535812380144\n",
      "   2023-10-25 18:36:29.493548 batch 301 loss 0.037071356789753644\n"
     ]
    },
    {
     "name": "stderr",
     "output_type": "stream",
     "text": [
      " 61%|██████    | 61/100 [16:34<10:30, 16.18s/it]"
     ]
    },
    {
     "name": "stdout",
     "output_type": "stream",
     "text": [
      "   2023-10-25 18:36:33.518462 batch 1 loss 0.036327137652470864\n",
      "   2023-10-25 18:36:37.612846 batch 101 loss 0.03581105407039148\n",
      "   2023-10-25 18:36:41.650986 batch 201 loss 0.035973760156331254\n",
      "   2023-10-25 18:36:45.649564 batch 301 loss 0.03722946446119607\n"
     ]
    },
    {
     "name": "stderr",
     "output_type": "stream",
     "text": [
      " 62%|██████▏   | 62/100 [16:50<10:14, 16.17s/it]"
     ]
    },
    {
     "name": "stdout",
     "output_type": "stream",
     "text": [
      "   2023-10-25 18:36:49.666363 batch 1 loss 0.03363628117725384\n",
      "   2023-10-25 18:36:53.714544 batch 101 loss 0.03612089616179371\n",
      "   2023-10-25 18:36:57.732426 batch 201 loss 0.03651234600229585\n",
      "   2023-10-25 18:37:01.779461 batch 301 loss 0.037717166845523044\n"
     ]
    },
    {
     "name": "stderr",
     "output_type": "stream",
     "text": [
      " 63%|██████▎   | 63/100 [17:06<09:57, 16.15s/it]"
     ]
    },
    {
     "name": "stdout",
     "output_type": "stream",
     "text": [
      "   2023-10-25 18:37:05.775712 batch 1 loss 0.03631438815832239\n",
      "   2023-10-25 18:37:09.855126 batch 101 loss 0.03639726214414802\n",
      "   2023-10-25 18:37:13.875031 batch 201 loss 0.03538456445511562\n",
      "   2023-10-25 18:37:17.864703 batch 301 loss 0.03714757965854788\n"
     ]
    },
    {
     "name": "stderr",
     "output_type": "stream",
     "text": [
      " 64%|██████▍   | 64/100 [17:23<09:42, 16.17s/it]"
     ]
    },
    {
     "name": "stdout",
     "output_type": "stream",
     "text": [
      "   2023-10-25 18:37:21.986222 batch 1 loss 0.03233522553122117\n",
      "   2023-10-25 18:37:26.009546 batch 101 loss 0.03547284805920569\n",
      "   2023-10-25 18:37:30.017049 batch 201 loss 0.035582230187028635\n",
      "   2023-10-25 18:37:34.073436 batch 301 loss 0.036772423843605004\n"
     ]
    },
    {
     "name": "stderr",
     "output_type": "stream",
     "text": [
      " 65%|██████▌   | 65/100 [17:39<09:25, 16.15s/it]"
     ]
    },
    {
     "name": "stdout",
     "output_type": "stream",
     "text": [
      "   2023-10-25 18:37:38.108120 batch 1 loss 0.03439839203572141\n",
      "   2023-10-25 18:37:42.262680 batch 101 loss 0.035606532809023456\n",
      "   2023-10-25 18:37:46.262541 batch 201 loss 0.03654976893488608\n",
      "   2023-10-25 18:37:50.258661 batch 301 loss 0.035916326659816304\n"
     ]
    },
    {
     "name": "stderr",
     "output_type": "stream",
     "text": [
      " 66%|██████▌   | 66/100 [17:55<09:09, 16.18s/it]"
     ]
    },
    {
     "name": "stdout",
     "output_type": "stream",
     "text": [
      "   2023-10-25 18:37:54.331743 batch 1 loss 0.03362658371137215\n",
      "   2023-10-25 18:37:58.395986 batch 101 loss 0.03675101409666987\n",
      "   2023-10-25 18:38:02.432992 batch 201 loss 0.036042136386343376\n",
      "   2023-10-25 18:38:06.456958 batch 301 loss 0.034879325058309\n"
     ]
    },
    {
     "name": "stderr",
     "output_type": "stream",
     "text": [
      " 67%|██████▋   | 67/100 [18:11<08:54, 16.19s/it]"
     ]
    },
    {
     "name": "stdout",
     "output_type": "stream",
     "text": [
      "   2023-10-25 18:38:10.542716 batch 1 loss 0.03377475683552056\n",
      "   2023-10-25 18:38:14.576936 batch 101 loss 0.03528754483901058\n",
      "   2023-10-25 18:38:18.587642 batch 201 loss 0.03624102577716584\n",
      "   2023-10-25 18:38:22.624563 batch 301 loss 0.035748563811155654\n"
     ]
    },
    {
     "name": "stderr",
     "output_type": "stream",
     "text": [
      " 68%|██████▊   | 68/100 [18:27<08:37, 16.17s/it]"
     ]
    },
    {
     "name": "stdout",
     "output_type": "stream",
     "text": [
      "   2023-10-25 18:38:26.681045 batch 1 loss 0.03751431547523783\n",
      "   2023-10-25 18:38:30.692256 batch 101 loss 0.034725741684187086\n",
      "   2023-10-25 18:38:34.725148 batch 201 loss 0.03533925649356243\n",
      "   2023-10-25 18:38:38.754056 batch 301 loss 0.03513355547340315\n"
     ]
    },
    {
     "name": "stderr",
     "output_type": "stream",
     "text": [
      " 69%|██████▉   | 69/100 [18:43<08:21, 16.19s/it]"
     ]
    },
    {
     "name": "stdout",
     "output_type": "stream",
     "text": [
      "   2023-10-25 18:38:42.905877 batch 1 loss 0.033117262318319594\n",
      "   2023-10-25 18:38:46.925711 batch 101 loss 0.03523857369041477\n",
      "   2023-10-25 18:38:50.975073 batch 201 loss 0.034937685986894555\n",
      "   2023-10-25 18:38:55.004504 batch 301 loss 0.03600380486542893\n"
     ]
    },
    {
     "name": "stderr",
     "output_type": "stream",
     "text": [
      " 70%|███████   | 70/100 [19:00<08:05, 16.17s/it]"
     ]
    },
    {
     "name": "stdout",
     "output_type": "stream",
     "text": [
      "   2023-10-25 18:38:59.028871 batch 1 loss 0.03500341691316009\n",
      "   2023-10-25 18:39:03.108148 batch 101 loss 0.03572872953699582\n",
      "   2023-10-25 18:39:07.133490 batch 201 loss 0.035885035060473885\n",
      "   2023-10-25 18:39:11.138829 batch 301 loss 0.03508152183321401\n"
     ]
    },
    {
     "name": "stderr",
     "output_type": "stream",
     "text": [
      " 71%|███████   | 71/100 [19:16<07:48, 16.16s/it]"
     ]
    },
    {
     "name": "stdout",
     "output_type": "stream",
     "text": [
      "   2023-10-25 18:39:15.180348 batch 1 loss 0.03905447212892707\n",
      "   2023-10-25 18:39:19.187589 batch 101 loss 0.034864293531105706\n",
      "   2023-10-25 18:39:23.220548 batch 201 loss 0.035041407845045246\n",
      "   2023-10-25 18:39:27.294274 batch 301 loss 0.03557354326461527\n"
     ]
    },
    {
     "name": "stderr",
     "output_type": "stream",
     "text": [
      " 72%|███████▏  | 72/100 [19:32<07:32, 16.15s/it]"
     ]
    },
    {
     "name": "stdout",
     "output_type": "stream",
     "text": [
      "   2023-10-25 18:39:31.310030 batch 1 loss 0.033363023063192894\n",
      "   2023-10-25 18:39:35.336556 batch 101 loss 0.034947935638928035\n",
      "   2023-10-25 18:39:39.385294 batch 201 loss 0.036277275414990026\n",
      "   2023-10-25 18:39:43.425537 batch 301 loss 0.03651100201101442\n"
     ]
    },
    {
     "name": "stderr",
     "output_type": "stream",
     "text": [
      " 73%|███████▎  | 73/100 [19:48<07:16, 16.17s/it]"
     ]
    },
    {
     "name": "stdout",
     "output_type": "stream",
     "text": [
      "   2023-10-25 18:39:47.519032 batch 1 loss 0.032828607608120834\n",
      "   2023-10-25 18:39:51.588156 batch 101 loss 0.034149976648397\n",
      "   2023-10-25 18:39:55.678479 batch 201 loss 0.0356411299465224\n",
      "   2023-10-25 18:39:59.740697 batch 301 loss 0.035565047216523364\n"
     ]
    },
    {
     "name": "stderr",
     "output_type": "stream",
     "text": [
      " 74%|███████▍  | 74/100 [20:04<07:01, 16.21s/it]"
     ]
    },
    {
     "name": "stdout",
     "output_type": "stream",
     "text": [
      "   2023-10-25 18:40:03.832353 batch 1 loss 0.032519295041660304\n",
      "   2023-10-25 18:40:07.938913 batch 101 loss 0.03380509292654433\n",
      "   2023-10-25 18:40:12.041238 batch 201 loss 0.0345208887710206\n",
      "   2023-10-25 18:40:16.137218 batch 301 loss 0.03380073144176708\n"
     ]
    },
    {
     "name": "stderr",
     "output_type": "stream",
     "text": [
      " 75%|███████▌  | 75/100 [20:21<06:46, 16.26s/it]"
     ]
    },
    {
     "name": "stdout",
     "output_type": "stream",
     "text": [
      "   2023-10-25 18:40:20.199174 batch 1 loss 0.035989860958061004\n",
      "   2023-10-25 18:40:24.294669 batch 101 loss 0.034339626856081065\n",
      "   2023-10-25 18:40:28.411605 batch 201 loss 0.03411130251127516\n",
      "   2023-10-25 18:40:32.498034 batch 301 loss 0.033987835357392186\n"
     ]
    },
    {
     "name": "stderr",
     "output_type": "stream",
     "text": [
      " 76%|███████▌  | 76/100 [20:37<06:31, 16.29s/it]"
     ]
    },
    {
     "name": "stdout",
     "output_type": "stream",
     "text": [
      "   2023-10-25 18:40:36.578256 batch 1 loss 0.03252435010394306\n",
      "   2023-10-25 18:40:40.649242 batch 101 loss 0.03427643374931143\n",
      "   2023-10-25 18:40:44.724420 batch 201 loss 0.03505469371725637\n",
      "   2023-10-25 18:40:48.811686 batch 301 loss 0.03606984074172948\n"
     ]
    },
    {
     "name": "stderr",
     "output_type": "stream",
     "text": [
      " 77%|███████▋  | 77/100 [20:53<06:14, 16.29s/it]"
     ]
    },
    {
     "name": "stdout",
     "output_type": "stream",
     "text": [
      "   2023-10-25 18:40:52.859381 batch 1 loss 0.0318253255364253\n",
      "   2023-10-25 18:40:57.084640 batch 101 loss 0.034414105021301614\n",
      "   2023-10-25 18:41:01.181008 batch 201 loss 0.03455846717080435\n",
      "   2023-10-25 18:41:05.261019 batch 301 loss 0.03474906846768249\n"
     ]
    },
    {
     "name": "stderr",
     "output_type": "stream",
     "text": [
      " 78%|███████▊  | 78/100 [21:10<05:59, 16.33s/it]"
     ]
    },
    {
     "name": "stdout",
     "output_type": "stream",
     "text": [
      "   2023-10-25 18:41:09.288162 batch 1 loss 0.03403894695443781\n",
      "   2023-10-25 18:41:13.360238 batch 101 loss 0.03357511496929846\n",
      "   2023-10-25 18:41:17.382969 batch 201 loss 0.03491168385476312\n",
      "   2023-10-25 18:41:21.474303 batch 301 loss 0.03465339739612377\n"
     ]
    },
    {
     "name": "stderr",
     "output_type": "stream",
     "text": [
      " 79%|███████▉  | 79/100 [21:26<05:42, 16.30s/it]"
     ]
    },
    {
     "name": "stdout",
     "output_type": "stream",
     "text": [
      "   2023-10-25 18:41:25.505505 batch 1 loss 0.03650927864031808\n",
      "   2023-10-25 18:41:29.608733 batch 101 loss 0.03507094185326295\n",
      "   2023-10-25 18:41:33.678072 batch 201 loss 0.03405001396299697\n",
      "   2023-10-25 18:41:37.741457 batch 301 loss 0.035311022550039345\n"
     ]
    },
    {
     "name": "stderr",
     "output_type": "stream",
     "text": [
      " 80%|████████  | 80/100 [21:42<05:26, 16.31s/it]"
     ]
    },
    {
     "name": "stdout",
     "output_type": "stream",
     "text": [
      "   2023-10-25 18:41:41.850930 batch 1 loss 0.03346206162335019\n",
      "   2023-10-25 18:41:45.910003 batch 101 loss 0.03338159227063437\n",
      "   2023-10-25 18:41:49.998501 batch 201 loss 0.03346656455220341\n",
      "   2023-10-25 18:41:54.031863 batch 301 loss 0.035446302830364915\n"
     ]
    },
    {
     "name": "stderr",
     "output_type": "stream",
     "text": [
      " 81%|████████  | 81/100 [21:59<05:09, 16.29s/it]"
     ]
    },
    {
     "name": "stdout",
     "output_type": "stream",
     "text": [
      "   2023-10-25 18:41:58.102360 batch 1 loss 0.030949168184429606\n",
      "   2023-10-25 18:42:02.185972 batch 101 loss 0.03523517991411031\n",
      "   2023-10-25 18:42:06.211082 batch 201 loss 0.034550328319892465\n",
      "   2023-10-25 18:42:10.254376 batch 301 loss 0.034537028049599995\n"
     ]
    },
    {
     "name": "stderr",
     "output_type": "stream",
     "text": [
      " 82%|████████▏ | 82/100 [22:15<04:53, 16.28s/it]"
     ]
    },
    {
     "name": "stdout",
     "output_type": "stream",
     "text": [
      "   2023-10-25 18:42:14.352202 batch 1 loss 0.029723756141369406\n",
      "   2023-10-25 18:42:18.387502 batch 101 loss 0.0331803019455338\n",
      "   2023-10-25 18:42:22.558785 batch 201 loss 0.034082279851003275\n",
      "   2023-10-25 18:42:26.584047 batch 301 loss 0.03561703504378284\n"
     ]
    },
    {
     "name": "stderr",
     "output_type": "stream",
     "text": [
      " 83%|████████▎ | 83/100 [22:31<04:37, 16.30s/it]"
     ]
    },
    {
     "name": "stdout",
     "output_type": "stream",
     "text": [
      "   2023-10-25 18:42:30.713474 batch 1 loss 0.03300703496042036\n",
      "   2023-10-25 18:42:34.844287 batch 101 loss 0.0343949770549184\n",
      "   2023-10-25 18:42:38.944461 batch 201 loss 0.034361033979935916\n",
      "   2023-10-25 18:42:43.014828 batch 301 loss 0.03442864807676323\n"
     ]
    },
    {
     "name": "stderr",
     "output_type": "stream",
     "text": [
      " 84%|████████▍ | 84/100 [22:48<04:21, 16.35s/it]"
     ]
    },
    {
     "name": "stdout",
     "output_type": "stream",
     "text": [
      "   2023-10-25 18:42:47.155738 batch 1 loss 0.03460310742124334\n",
      "   2023-10-25 18:42:51.230753 batch 101 loss 0.033202660332150025\n",
      "   2023-10-25 18:42:55.294147 batch 201 loss 0.03374914508507868\n",
      "   2023-10-25 18:42:59.374422 batch 301 loss 0.03457200752731887\n"
     ]
    },
    {
     "name": "stderr",
     "output_type": "stream",
     "text": [
      " 85%|████████▌ | 85/100 [23:04<04:05, 16.34s/it]"
     ]
    },
    {
     "name": "stdout",
     "output_type": "stream",
     "text": [
      "   2023-10-25 18:43:03.485225 batch 1 loss 0.03303978020958784\n",
      "   2023-10-25 18:43:07.556770 batch 101 loss 0.03325887584177956\n",
      "   2023-10-25 18:43:11.601779 batch 201 loss 0.03416466125543332\n",
      "   2023-10-25 18:43:15.612547 batch 301 loss 0.03421392961445458\n"
     ]
    },
    {
     "name": "stderr",
     "output_type": "stream",
     "text": [
      " 86%|████████▌ | 86/100 [23:20<03:48, 16.30s/it]"
     ]
    },
    {
     "name": "stdout",
     "output_type": "stream",
     "text": [
      "   2023-10-25 18:43:19.685710 batch 1 loss 0.033724459094688256\n",
      "   2023-10-25 18:43:23.788387 batch 101 loss 0.03299118909363471\n",
      "   2023-10-25 18:43:27.791562 batch 201 loss 0.03490136134365917\n",
      "   2023-10-25 18:43:31.928645 batch 301 loss 0.034771850694634704\n"
     ]
    },
    {
     "name": "stderr",
     "output_type": "stream",
     "text": [
      " 87%|████████▋ | 87/100 [23:37<03:31, 16.29s/it]"
     ]
    },
    {
     "name": "stdout",
     "output_type": "stream",
     "text": [
      "   2023-10-25 18:43:35.940407 batch 1 loss 0.03103473644164617\n",
      "   2023-10-25 18:43:39.959521 batch 101 loss 0.034339243768131085\n",
      "   2023-10-25 18:43:43.988761 batch 201 loss 0.03429345049898885\n",
      "   2023-10-25 18:43:47.996516 batch 301 loss 0.03473901359596343\n"
     ]
    },
    {
     "name": "stderr",
     "output_type": "stream",
     "text": [
      " 88%|████████▊ | 88/100 [23:53<03:14, 16.23s/it]"
     ]
    },
    {
     "name": "stdout",
     "output_type": "stream",
     "text": [
      "   2023-10-25 18:43:52.029112 batch 1 loss 0.03226188335437645\n",
      "   2023-10-25 18:43:56.182177 batch 101 loss 0.03387858505560761\n",
      "   2023-10-25 18:44:00.232489 batch 201 loss 0.03347290295971637\n",
      "   2023-10-25 18:44:04.292138 batch 301 loss 0.03307292507756015\n"
     ]
    },
    {
     "name": "stderr",
     "output_type": "stream",
     "text": [
      " 89%|████████▉ | 89/100 [24:09<02:58, 16.24s/it]"
     ]
    },
    {
     "name": "stdout",
     "output_type": "stream",
     "text": [
      "   2023-10-25 18:44:08.314937 batch 1 loss 0.03308469995692511\n",
      "   2023-10-25 18:44:12.327160 batch 101 loss 0.03400486080724475\n",
      "   2023-10-25 18:44:16.317157 batch 201 loss 0.03311589418811553\n",
      "   2023-10-25 18:44:20.367337 batch 301 loss 0.03437873315295137\n"
     ]
    },
    {
     "name": "stderr",
     "output_type": "stream",
     "text": [
      " 90%|█████████ | 90/100 [24:25<02:42, 16.20s/it]"
     ]
    },
    {
     "name": "stdout",
     "output_type": "stream",
     "text": [
      "   2023-10-25 18:44:24.418411 batch 1 loss 0.03145837600473385\n",
      "   2023-10-25 18:44:28.492921 batch 101 loss 0.03264679105086892\n",
      "   2023-10-25 18:44:32.598494 batch 201 loss 0.034877819595241874\n",
      "   2023-10-25 18:44:36.600123 batch 301 loss 0.03370669332313222\n"
     ]
    },
    {
     "name": "stderr",
     "output_type": "stream",
     "text": [
      " 91%|█████████ | 91/100 [24:41<02:25, 16.20s/it]"
     ]
    },
    {
     "name": "stdout",
     "output_type": "stream",
     "text": [
      "   2023-10-25 18:44:40.617317 batch 1 loss 0.031088975814142324\n",
      "   2023-10-25 18:44:44.619821 batch 101 loss 0.03387284934021792\n",
      "   2023-10-25 18:44:48.609719 batch 201 loss 0.034341341178616064\n",
      "   2023-10-25 18:44:52.631385 batch 301 loss 0.03466501152001032\n"
     ]
    },
    {
     "name": "stderr",
     "output_type": "stream",
     "text": [
      " 92%|█████████▏| 92/100 [24:57<02:09, 16.15s/it]"
     ]
    },
    {
     "name": "stdout",
     "output_type": "stream",
     "text": [
      "   2023-10-25 18:44:56.636222 batch 1 loss 0.030949051375362885\n",
      "   2023-10-25 18:45:00.696015 batch 101 loss 0.03355267651611703\n",
      "   2023-10-25 18:45:04.915978 batch 201 loss 0.03418652766058161\n",
      "   2023-10-25 18:45:08.935230 batch 301 loss 0.03334804253542714\n"
     ]
    },
    {
     "name": "stderr",
     "output_type": "stream",
     "text": [
      " 93%|█████████▎| 93/100 [25:14<01:53, 16.21s/it]"
     ]
    },
    {
     "name": "stdout",
     "output_type": "stream",
     "text": [
      "   2023-10-25 18:45:12.989434 batch 1 loss 0.03070429241966464\n",
      "   2023-10-25 18:45:16.998158 batch 101 loss 0.033338083698948945\n",
      "   2023-10-25 18:45:21.035216 batch 201 loss 0.03346828872806759\n",
      "   2023-10-25 18:45:25.047860 batch 301 loss 0.03405896785719889\n"
     ]
    },
    {
     "name": "stderr",
     "output_type": "stream",
     "text": [
      " 94%|█████████▍| 94/100 [25:30<01:37, 16.22s/it]"
     ]
    },
    {
     "name": "stdout",
     "output_type": "stream",
     "text": [
      "   2023-10-25 18:45:29.232963 batch 1 loss 0.03047275872054417\n",
      "   2023-10-25 18:45:33.322992 batch 101 loss 0.03273399522092772\n",
      "   2023-10-25 18:45:37.341885 batch 201 loss 0.033412047209496955\n",
      "   2023-10-25 18:45:41.430629 batch 301 loss 0.034415628087095904\n"
     ]
    },
    {
     "name": "stderr",
     "output_type": "stream",
     "text": [
      " 95%|█████████▌| 95/100 [25:46<01:21, 16.22s/it]"
     ]
    },
    {
     "name": "stdout",
     "output_type": "stream",
     "text": [
      "   2023-10-25 18:45:45.468100 batch 1 loss 0.033666779755151865\n",
      "   2023-10-25 18:45:49.500409 batch 101 loss 0.032254290786798\n",
      "   2023-10-25 18:45:53.521917 batch 201 loss 0.03302708333437089\n",
      "   2023-10-25 18:45:57.585954 batch 301 loss 0.03460171402745815\n"
     ]
    },
    {
     "name": "stderr",
     "output_type": "stream",
     "text": [
      " 96%|█████████▌| 96/100 [26:02<01:05, 16.27s/it]"
     ]
    },
    {
     "name": "stdout",
     "output_type": "stream",
     "text": [
      "   2023-10-25 18:46:01.851928 batch 1 loss 0.027862511610378657\n",
      "   2023-10-25 18:46:05.960921 batch 101 loss 0.033468735813396995\n",
      "   2023-10-25 18:46:09.974093 batch 201 loss 0.03216469153614425\n",
      "   2023-10-25 18:46:14.033596 batch 301 loss 0.03296266177898056\n"
     ]
    },
    {
     "name": "stderr",
     "output_type": "stream",
     "text": [
      " 97%|█████████▋| 97/100 [26:19<00:48, 16.25s/it]"
     ]
    },
    {
     "name": "stdout",
     "output_type": "stream",
     "text": [
      "   2023-10-25 18:46:18.065250 batch 1 loss 0.029468442640252824\n",
      "   2023-10-25 18:46:22.150953 batch 101 loss 0.03290932472369486\n",
      "   2023-10-25 18:46:26.147424 batch 201 loss 0.03370581462434756\n",
      "   2023-10-25 18:46:30.139567 batch 301 loss 0.03412388266822143\n"
     ]
    },
    {
     "name": "stderr",
     "output_type": "stream",
     "text": [
      " 98%|█████████▊| 98/100 [26:35<00:32, 16.28s/it]"
     ]
    },
    {
     "name": "stdout",
     "output_type": "stream",
     "text": [
      "   2023-10-25 18:46:34.391515 batch 1 loss 0.030857259624481298\n",
      "   2023-10-25 18:46:38.694564 batch 101 loss 0.032198381246665096\n",
      "   2023-10-25 18:46:42.859210 batch 201 loss 0.03327277193791083\n",
      "   2023-10-25 18:46:46.930307 batch 301 loss 0.033411353198106494\n"
     ]
    },
    {
     "name": "stderr",
     "output_type": "stream",
     "text": [
      " 99%|█████████▉| 99/100 [26:52<00:16, 16.40s/it]"
     ]
    },
    {
     "name": "stdout",
     "output_type": "stream",
     "text": [
      "   2023-10-25 18:46:51.065061 batch 1 loss 0.030924108633544268\n",
      "   2023-10-25 18:46:55.098419 batch 101 loss 0.03223530343964418\n",
      "   2023-10-25 18:46:59.320140 batch 201 loss 0.03221924849145485\n",
      "   2023-10-25 18:47:03.806772 batch 301 loss 0.03275228829756491\n"
     ]
    },
    {
     "name": "stderr",
     "output_type": "stream",
     "text": [
      "100%|██████████| 100/100 [27:09<00:00, 16.29s/it]\n"
     ]
    }
   ],
   "source": [
    "model = Network()\n",
    "criterion = nn.BCEWithLogitsLoss()\n",
    "\n",
    "epochs = 100\n",
    "model = model.to(CUDA_DEV)\n",
    "criterion = criterion.to(CUDA_DEV)\n",
    "optimizer = torch.optim.Adam(model.parameters(), lr=1e-4)\n",
    "\n",
    "for epoch in tqdm(range(epochs)):\n",
    "    train_epoch(model, train_dataloader, criterion, optimizer)"
   ]
  },
  {
   "cell_type": "code",
   "execution_count": 13,
   "id": "2040bd3b",
   "metadata": {
    "execution": {
     "iopub.execute_input": "2023-10-25T18:47:08.941802Z",
     "iopub.status.busy": "2023-10-25T18:47:08.941101Z",
     "iopub.status.idle": "2023-10-25T18:47:13.527485Z",
     "shell.execute_reply": "2023-10-25T18:47:13.526310Z"
    },
    "papermill": {
     "duration": 5.071527,
     "end_time": "2023-10-25T18:47:13.529703",
     "exception": false,
     "start_time": "2023-10-25T18:47:08.458176",
     "status": "completed"
    },
    "tags": []
   },
   "outputs": [
    {
     "name": "stdout",
     "output_type": "stream",
     "text": [
      "CPU times: user 4.56 s, sys: 19.9 ms, total: 4.58 s\n",
      "Wall time: 4.58 s\n"
     ]
    }
   ],
   "source": [
    "%%time\n",
    "track_idxs, predictions = predict(model, test_dataloader)"
   ]
  },
  {
   "cell_type": "code",
   "execution_count": 14,
   "id": "d7668f37",
   "metadata": {
    "execution": {
     "iopub.execute_input": "2023-10-25T18:47:14.391729Z",
     "iopub.status.busy": "2023-10-25T18:47:14.390907Z",
     "iopub.status.idle": "2023-10-25T18:47:19.195392Z",
     "shell.execute_reply": "2023-10-25T18:47:19.194616Z"
    },
    "papermill": {
     "duration": 5.235049,
     "end_time": "2023-10-25T18:47:19.197788",
     "exception": false,
     "start_time": "2023-10-25T18:47:13.962739",
     "status": "completed"
    },
    "tags": []
   },
   "outputs": [],
   "source": [
    "predictions_df = pd.DataFrame([\n",
    "    {'track': track, 'prediction': ','.join([str(p) for p in probs])}\n",
    "    for track, probs in zip(track_idxs, predictions)\n",
    "])"
   ]
  },
  {
   "cell_type": "code",
   "execution_count": 15,
   "id": "06afbd28",
   "metadata": {
    "execution": {
     "iopub.execute_input": "2023-10-25T18:47:20.087184Z",
     "iopub.status.busy": "2023-10-25T18:47:20.086791Z",
     "iopub.status.idle": "2023-10-25T18:47:23.578865Z",
     "shell.execute_reply": "2023-10-25T18:47:23.578076Z"
    },
    "papermill": {
     "duration": 3.936639,
     "end_time": "2023-10-25T18:47:23.581095",
     "exception": false,
     "start_time": "2023-10-25T18:47:19.644456",
     "status": "completed"
    },
    "tags": []
   },
   "outputs": [],
   "source": [
    "submit_file = 'submit_batch-128_epochs-100.csv'\n",
    "predictions_df.to_csv(submit_file, index=False)"
   ]
  },
  {
   "cell_type": "code",
   "execution_count": 16,
   "id": "b36e6b4a",
   "metadata": {
    "execution": {
     "iopub.execute_input": "2023-10-25T18:47:24.502139Z",
     "iopub.status.busy": "2023-10-25T18:47:24.501773Z",
     "iopub.status.idle": "2023-10-25T18:47:24.507973Z",
     "shell.execute_reply": "2023-10-25T18:47:24.507063Z"
    },
    "papermill": {
     "duration": 0.445037,
     "end_time": "2023-10-25T18:47:24.509880",
     "exception": false,
     "start_time": "2023-10-25T18:47:24.064843",
     "status": "completed"
    },
    "tags": []
   },
   "outputs": [
    {
     "data": {
      "text/html": [
       "<a href='submit_batch-128_epochs-100.csv' target='_blank'>submit_batch-128_epochs-100.csv</a><br>"
      ],
      "text/plain": [
       "/kaggle/working/submit_batch-128_epochs-100.csv"
      ]
     },
     "execution_count": 16,
     "metadata": {},
     "output_type": "execute_result"
    }
   ],
   "source": [
    "from IPython.display import FileLink\n",
    "\n",
    "FileLink(submit_file)"
   ]
  },
  {
   "cell_type": "code",
   "execution_count": null,
   "id": "8c60cbbc",
   "metadata": {
    "papermill": {
     "duration": 0.439434,
     "end_time": "2023-10-25T18:47:25.386559",
     "exception": false,
     "start_time": "2023-10-25T18:47:24.947125",
     "status": "completed"
    },
    "tags": []
   },
   "outputs": [],
   "source": []
  }
 ],
 "metadata": {
  "kernelspec": {
   "display_name": "Python 3",
   "language": "python",
   "name": "python3"
  },
  "language_info": {
   "codemirror_mode": {
    "name": "ipython",
    "version": 3
   },
   "file_extension": ".py",
   "mimetype": "text/x-python",
   "name": "python",
   "nbconvert_exporter": "python",
   "pygments_lexer": "ipython3",
   "version": "3.10.12"
  },
  "papermill": {
   "default_parameters": {},
   "duration": 2245.967064,
   "end_time": "2023-10-25T18:47:28.852350",
   "environment_variables": {},
   "exception": null,
   "input_path": "__notebook__.ipynb",
   "output_path": "__notebook__.ipynb",
   "parameters": {},
   "start_time": "2023-10-25T18:10:02.885286",
   "version": "2.4.0"
  }
 },
 "nbformat": 4,
 "nbformat_minor": 5
}
