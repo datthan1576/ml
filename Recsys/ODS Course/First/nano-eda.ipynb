{
 "cells": [
  {
   "cell_type": "code",
   "execution_count": 1,
   "id": "130ff618",
   "metadata": {
    "_cell_guid": "b1076dfc-b9ad-4769-8c92-a6c4dae69d19",
    "_uuid": "8f2839f25d086af736a60e9eeb907d3b93b6e0e5",
    "execution": {
     "iopub.execute_input": "2023-10-28T14:09:05.493170Z",
     "iopub.status.busy": "2023-10-28T14:09:05.492509Z",
     "iopub.status.idle": "2023-10-28T14:09:05.937693Z",
     "shell.execute_reply": "2023-10-28T14:09:05.936599Z"
    },
    "papermill": {
     "duration": 0.46098,
     "end_time": "2023-10-28T14:09:05.940194",
     "exception": false,
     "start_time": "2023-10-28T14:09:05.479214",
     "status": "completed"
    },
    "tags": []
   },
   "outputs": [
    {
     "name": "stdout",
     "output_type": "stream",
     "text": [
      "/kaggle/input/yandex-cup-2023-neuroswipe/keys_full.csv\n",
      "/kaggle/input/yandex-cup-2023-neuroswipe/voc.txt\n",
      "/kaggle/input/yandex-cup-2023-neuroswipe/train_curves.parquet\n",
      "/kaggle/input/yandex-cup-2023-neuroswipe/valid_curves.parquet\n",
      "/kaggle/input/yandex-cup-2023-neuroswipe/keyboards_full.csv\n",
      "/kaggle/input/yandex-cup-2023-neuroswipe/suggestion_accepted_curves_info.parquet\n",
      "/kaggle/input/yandex-cup-2023-neuroswipe/accepted_curves.parquet\n",
      "/kaggle/input/yandex-cup-2023-neuroswipe/valid_curves_info.csv\n",
      "/kaggle/input/yandex-cup-2023-neuroswipe/train_curves_info.parquet\n",
      "/kaggle/input/yandex-cup-2023-neuroswipe/suggestion_accepted_curves.parquet\n",
      "/kaggle/input/yandex-cup-2023-neuroswipe/test_curves.csv\n",
      "/kaggle/input/yandex-cup-2023-neuroswipe/test_curves.parquet\n",
      "/kaggle/input/yandex-cup-2023-neuroswipe/valid_curves_info.parquet\n",
      "/kaggle/input/yandex-cup-2023-neuroswipe/valid_curves.csv\n",
      "/kaggle/input/yandex-cup-2023-neuroswipe/test_curves_info.parquet\n",
      "/kaggle/input/yandex-cup-2023-neuroswipe/test_curves_info.csv\n",
      "/kaggle/input/yandex-cup-2023-neuroswipe/accepted_curves_info.parquet\n"
     ]
    }
   ],
   "source": [
    "import numpy as np \n",
    "import pandas as pd \n",
    "\n",
    "from bidict import bidict\n",
    "from tqdm import tqdm\n",
    "\n",
    "import os\n",
    "for dirname, _, filenames in os.walk('/kaggle/input'):\n",
    "    for filename in filenames:\n",
    "        print(os.path.join(dirname, filename))"
   ]
  },
  {
   "cell_type": "markdown",
   "id": "1468fa9c",
   "metadata": {
    "papermill": {
     "duration": 0.010066,
     "end_time": "2023-10-28T14:09:05.960849",
     "exception": false,
     "start_time": "2023-10-28T14:09:05.950783",
     "status": "completed"
    },
    "tags": []
   },
   "source": [
    "Основные данные"
   ]
  },
  {
   "cell_type": "code",
   "execution_count": 2,
   "id": "66d3a881",
   "metadata": {
    "execution": {
     "iopub.execute_input": "2023-10-28T14:09:05.984130Z",
     "iopub.status.busy": "2023-10-28T14:09:05.983246Z",
     "iopub.status.idle": "2023-10-28T14:09:05.988102Z",
     "shell.execute_reply": "2023-10-28T14:09:05.987317Z"
    },
    "papermill": {
     "duration": 0.018979,
     "end_time": "2023-10-28T14:09:05.990336",
     "exception": false,
     "start_time": "2023-10-28T14:09:05.971357",
     "status": "completed"
    },
    "tags": []
   },
   "outputs": [],
   "source": [
    "data_dir = '/kaggle/input/yandex-cup-2023-neuroswipe'"
   ]
  },
  {
   "cell_type": "code",
   "execution_count": 3,
   "id": "744e9b5b",
   "metadata": {
    "execution": {
     "iopub.execute_input": "2023-10-28T14:09:06.013192Z",
     "iopub.status.busy": "2023-10-28T14:09:06.012512Z",
     "iopub.status.idle": "2023-10-28T14:09:13.888087Z",
     "shell.execute_reply": "2023-10-28T14:09:13.886701Z"
    },
    "papermill": {
     "duration": 7.890471,
     "end_time": "2023-10-28T14:09:13.891198",
     "exception": false,
     "start_time": "2023-10-28T14:09:06.000727",
     "status": "completed"
    },
    "tags": []
   },
   "outputs": [
    {
     "name": "stderr",
     "output_type": "stream",
     "text": [
      "503598it [00:07, 64080.79it/s]"
     ]
    },
    {
     "name": "stdout",
     "output_type": "stream",
     "text": [
      "Кол-во слов в словаре: 503598\n"
     ]
    },
    {
     "name": "stderr",
     "output_type": "stream",
     "text": [
      "\n"
     ]
    }
   ],
   "source": [
    "vocab = bidict()\n",
    "with open(os.path.join(data_dir, 'voc.txt'), 'r') as f:\n",
    "    i = 0\n",
    "    for word in tqdm(f):\n",
    "        vocab[word.rstrip('\\n')] = i\n",
    "        i += 1\n",
    "print(f'Кол-во слов в словаре: {len(vocab)}')"
   ]
  },
  {
   "cell_type": "markdown",
   "id": "4b05e3c3",
   "metadata": {
    "papermill": {
     "duration": 0.017737,
     "end_time": "2023-10-28T14:09:13.926666",
     "exception": false,
     "start_time": "2023-10-28T14:09:13.908929",
     "status": "completed"
    },
    "tags": []
   },
   "source": [
    "Главная особенность `bidict`"
   ]
  },
  {
   "cell_type": "code",
   "execution_count": 4,
   "id": "5ce9ae9a",
   "metadata": {
    "execution": {
     "iopub.execute_input": "2023-10-28T14:09:13.964446Z",
     "iopub.status.busy": "2023-10-28T14:09:13.964050Z",
     "iopub.status.idle": "2023-10-28T14:09:13.972395Z",
     "shell.execute_reply": "2023-10-28T14:09:13.971233Z"
    },
    "papermill": {
     "duration": 0.030161,
     "end_time": "2023-10-28T14:09:13.974973",
     "exception": false,
     "start_time": "2023-10-28T14:09:13.944812",
     "status": "completed"
    },
    "tags": []
   },
   "outputs": [
    {
     "data": {
      "text/plain": [
       "(385092, 'русы')"
      ]
     },
     "execution_count": 4,
     "metadata": {},
     "output_type": "execute_result"
    }
   ],
   "source": [
    "vocab['русы'], vocab.inverse[385092]"
   ]
  },
  {
   "cell_type": "markdown",
   "id": "aa5bc887",
   "metadata": {
    "papermill": {
     "duration": 0.017913,
     "end_time": "2023-10-28T14:09:14.010755",
     "exception": false,
     "start_time": "2023-10-28T14:09:13.992842",
     "status": "completed"
    },
    "tags": []
   },
   "source": [
    "Посмотри на клавиатуры и кнопки"
   ]
  },
  {
   "cell_type": "code",
   "execution_count": 5,
   "id": "935c375a",
   "metadata": {
    "execution": {
     "iopub.execute_input": "2023-10-28T14:09:14.049472Z",
     "iopub.status.busy": "2023-10-28T14:09:14.048574Z",
     "iopub.status.idle": "2023-10-28T14:09:14.066445Z",
     "shell.execute_reply": "2023-10-28T14:09:14.065488Z"
    },
    "papermill": {
     "duration": 0.039747,
     "end_time": "2023-10-28T14:09:14.069051",
     "exception": false,
     "start_time": "2023-10-28T14:09:14.029304",
     "status": "completed"
    },
    "tags": []
   },
   "outputs": [],
   "source": [
    "df_keyboards = pd.read_csv(os.path.join(data_dir, 'keyboards_full.csv'))"
   ]
  },
  {
   "cell_type": "code",
   "execution_count": 6,
   "id": "fa91241c",
   "metadata": {
    "execution": {
     "iopub.execute_input": "2023-10-28T14:09:14.107662Z",
     "iopub.status.busy": "2023-10-28T14:09:14.106684Z",
     "iopub.status.idle": "2023-10-28T14:09:14.130266Z",
     "shell.execute_reply": "2023-10-28T14:09:14.129180Z"
    },
    "papermill": {
     "duration": 0.045641,
     "end_time": "2023-10-28T14:09:14.132727",
     "exception": false,
     "start_time": "2023-10-28T14:09:14.087086",
     "status": "completed"
    },
    "tags": []
   },
   "outputs": [
    {
     "data": {
      "text/html": [
       "<div>\n",
       "<style scoped>\n",
       "    .dataframe tbody tr th:only-of-type {\n",
       "        vertical-align: middle;\n",
       "    }\n",
       "\n",
       "    .dataframe tbody tr th {\n",
       "        vertical-align: top;\n",
       "    }\n",
       "\n",
       "    .dataframe thead th {\n",
       "        text-align: right;\n",
       "    }\n",
       "</style>\n",
       "<table border=\"1\" class=\"dataframe\">\n",
       "  <thead>\n",
       "    <tr style=\"text-align: right;\">\n",
       "      <th></th>\n",
       "      <th>id</th>\n",
       "      <th>internal_keyboard_id</th>\n",
       "      <th>origin</th>\n",
       "      <th>type</th>\n",
       "      <th>width</th>\n",
       "      <th>height</th>\n",
       "    </tr>\n",
       "  </thead>\n",
       "  <tbody>\n",
       "    <tr>\n",
       "      <th>0</th>\n",
       "      <td>0</td>\n",
       "      <td>0</td>\n",
       "      <td>train/valid/test</td>\n",
       "      <td>default</td>\n",
       "      <td>1080</td>\n",
       "      <td>667</td>\n",
       "    </tr>\n",
       "    <tr>\n",
       "      <th>1</th>\n",
       "      <td>1</td>\n",
       "      <td>1</td>\n",
       "      <td>train/valid/test</td>\n",
       "      <td>extra</td>\n",
       "      <td>1080</td>\n",
       "      <td>667</td>\n",
       "    </tr>\n",
       "    <tr>\n",
       "      <th>2</th>\n",
       "      <td>2</td>\n",
       "      <td>0</td>\n",
       "      <td>suggestion_accepted</td>\n",
       "      <td>android_ru_east_slavic_separate_comma</td>\n",
       "      <td>1080</td>\n",
       "      <td>587</td>\n",
       "    </tr>\n",
       "    <tr>\n",
       "      <th>3</th>\n",
       "      <td>3</td>\n",
       "      <td>1</td>\n",
       "      <td>suggestion_accepted</td>\n",
       "      <td>android_ru_east_slavic_separate_comma_number_row</td>\n",
       "      <td>1080</td>\n",
       "      <td>717</td>\n",
       "    </tr>\n",
       "    <tr>\n",
       "      <th>4</th>\n",
       "      <td>4</td>\n",
       "      <td>2</td>\n",
       "      <td>suggestion_accepted</td>\n",
       "      <td>android_ru_east_slavic_extra_cyrillic_separate...</td>\n",
       "      <td>1080</td>\n",
       "      <td>662</td>\n",
       "    </tr>\n",
       "  </tbody>\n",
       "</table>\n",
       "</div>"
      ],
      "text/plain": [
       "   id  internal_keyboard_id               origin  \\\n",
       "0   0                     0     train/valid/test   \n",
       "1   1                     1     train/valid/test   \n",
       "2   2                     0  suggestion_accepted   \n",
       "3   3                     1  suggestion_accepted   \n",
       "4   4                     2  suggestion_accepted   \n",
       "\n",
       "                                                type  width  height  \n",
       "0                                            default   1080     667  \n",
       "1                                              extra   1080     667  \n",
       "2              android_ru_east_slavic_separate_comma   1080     587  \n",
       "3   android_ru_east_slavic_separate_comma_number_row   1080     717  \n",
       "4  android_ru_east_slavic_extra_cyrillic_separate...   1080     662  "
      ]
     },
     "execution_count": 6,
     "metadata": {},
     "output_type": "execute_result"
    }
   ],
   "source": [
    "df_keyboards.head()"
   ]
  },
  {
   "cell_type": "markdown",
   "id": "d5e888a1",
   "metadata": {
    "papermill": {
     "duration": 0.017893,
     "end_time": "2023-10-28T14:09:14.169629",
     "exception": false,
     "start_time": "2023-10-28T14:09:14.151736",
     "status": "completed"
    },
    "tags": []
   },
   "source": [
    "В `train/valid/test` всего два вида клавиатуры (default и extra), в дополнительных файлах их уже больше (88)"
   ]
  },
  {
   "cell_type": "code",
   "execution_count": 7,
   "id": "80a19e6d",
   "metadata": {
    "execution": {
     "iopub.execute_input": "2023-10-28T14:09:14.207600Z",
     "iopub.status.busy": "2023-10-28T14:09:14.207180Z",
     "iopub.status.idle": "2023-10-28T14:09:14.221783Z",
     "shell.execute_reply": "2023-10-28T14:09:14.220746Z"
    },
    "papermill": {
     "duration": 0.03623,
     "end_time": "2023-10-28T14:09:14.223970",
     "exception": false,
     "start_time": "2023-10-28T14:09:14.187740",
     "status": "completed"
    },
    "tags": []
   },
   "outputs": [
    {
     "data": {
      "text/plain": [
       "origin\n",
       "accepted               87\n",
       "suggestion_accepted    50\n",
       "train/valid/test        2\n",
       "Name: count, dtype: int64"
      ]
     },
     "execution_count": 7,
     "metadata": {},
     "output_type": "execute_result"
    }
   ],
   "source": [
    "df_keyboards['origin'].value_counts()"
   ]
  },
  {
   "cell_type": "code",
   "execution_count": 8,
   "id": "caaf2c8c",
   "metadata": {
    "execution": {
     "iopub.execute_input": "2023-10-28T14:09:14.262332Z",
     "iopub.status.busy": "2023-10-28T14:09:14.261895Z",
     "iopub.status.idle": "2023-10-28T14:09:14.272385Z",
     "shell.execute_reply": "2023-10-28T14:09:14.271252Z"
    },
    "papermill": {
     "duration": 0.032394,
     "end_time": "2023-10-28T14:09:14.274531",
     "exception": false,
     "start_time": "2023-10-28T14:09:14.242137",
     "status": "completed"
    },
    "tags": []
   },
   "outputs": [
    {
     "data": {
      "text/plain": [
       "90"
      ]
     },
     "execution_count": 8,
     "metadata": {},
     "output_type": "execute_result"
    }
   ],
   "source": [
    "df_keyboards['type'].nunique()"
   ]
  },
  {
   "cell_type": "markdown",
   "id": "a5efbb20",
   "metadata": {
    "papermill": {
     "duration": 0.018135,
     "end_time": "2023-10-28T14:09:14.311165",
     "exception": false,
     "start_time": "2023-10-28T14:09:14.293030",
     "status": "completed"
    },
    "tags": []
   },
   "source": [
    "В клавиатурах есть дубликаты по имени, но у них зачастую разный размер"
   ]
  },
  {
   "cell_type": "code",
   "execution_count": 9,
   "id": "be07a2a8",
   "metadata": {
    "execution": {
     "iopub.execute_input": "2023-10-28T14:09:14.350165Z",
     "iopub.status.busy": "2023-10-28T14:09:14.349747Z",
     "iopub.status.idle": "2023-10-28T14:09:14.371846Z",
     "shell.execute_reply": "2023-10-28T14:09:14.371077Z"
    },
    "papermill": {
     "duration": 0.04459,
     "end_time": "2023-10-28T14:09:14.374081",
     "exception": false,
     "start_time": "2023-10-28T14:09:14.329491",
     "status": "completed"
    },
    "tags": []
   },
   "outputs": [
    {
     "data": {
      "text/html": [
       "<div>\n",
       "<style scoped>\n",
       "    .dataframe tbody tr th:only-of-type {\n",
       "        vertical-align: middle;\n",
       "    }\n",
       "\n",
       "    .dataframe tbody tr th {\n",
       "        vertical-align: top;\n",
       "    }\n",
       "\n",
       "    .dataframe thead th {\n",
       "        text-align: right;\n",
       "    }\n",
       "</style>\n",
       "<table border=\"1\" class=\"dataframe\">\n",
       "  <thead>\n",
       "    <tr style=\"text-align: right;\">\n",
       "      <th></th>\n",
       "      <th>id</th>\n",
       "      <th>internal_keyboard_id</th>\n",
       "      <th>origin</th>\n",
       "      <th>type</th>\n",
       "      <th>width</th>\n",
       "      <th>height</th>\n",
       "    </tr>\n",
       "  </thead>\n",
       "  <tbody>\n",
       "    <tr>\n",
       "      <th>51</th>\n",
       "      <td>51</td>\n",
       "      <td>49</td>\n",
       "      <td>suggestion_accepted</td>\n",
       "      <td>android_ru_east_slavic_4row_separate_comma</td>\n",
       "      <td>1080</td>\n",
       "      <td>735</td>\n",
       "    </tr>\n",
       "    <tr>\n",
       "      <th>110</th>\n",
       "      <td>110</td>\n",
       "      <td>58</td>\n",
       "      <td>accepted</td>\n",
       "      <td>android_ru_east_slavic_4row_separate_comma</td>\n",
       "      <td>1080</td>\n",
       "      <td>735</td>\n",
       "    </tr>\n",
       "    <tr>\n",
       "      <th>96</th>\n",
       "      <td>96</td>\n",
       "      <td>44</td>\n",
       "      <td>accepted</td>\n",
       "      <td>android_ru_east_slavic_4row_separate_comma_num...</td>\n",
       "      <td>1080</td>\n",
       "      <td>894</td>\n",
       "    </tr>\n",
       "    <tr>\n",
       "      <th>50</th>\n",
       "      <td>50</td>\n",
       "      <td>48</td>\n",
       "      <td>suggestion_accepted</td>\n",
       "      <td>android_ru_east_slavic_4row_separate_comma_num...</td>\n",
       "      <td>908</td>\n",
       "      <td>672</td>\n",
       "    </tr>\n",
       "    <tr>\n",
       "      <th>47</th>\n",
       "      <td>47</td>\n",
       "      <td>45</td>\n",
       "      <td>suggestion_accepted</td>\n",
       "      <td>android_ru_east_slavic_birmanru_extra_cyrillic...</td>\n",
       "      <td>1080</td>\n",
       "      <td>718</td>\n",
       "    </tr>\n",
       "    <tr>\n",
       "      <th>...</th>\n",
       "      <td>...</td>\n",
       "      <td>...</td>\n",
       "      <td>...</td>\n",
       "      <td>...</td>\n",
       "      <td>...</td>\n",
       "      <td>...</td>\n",
       "    </tr>\n",
       "    <tr>\n",
       "      <th>70</th>\n",
       "      <td>70</td>\n",
       "      <td>18</td>\n",
       "      <td>accepted</td>\n",
       "      <td>android_ru_east_slavic_ycuk_srow_num_separate_...</td>\n",
       "      <td>1080</td>\n",
       "      <td>774</td>\n",
       "    </tr>\n",
       "    <tr>\n",
       "      <th>71</th>\n",
       "      <td>71</td>\n",
       "      <td>19</td>\n",
       "      <td>accepted</td>\n",
       "      <td>android_ru_east_slavic_zap_separate_comma</td>\n",
       "      <td>1080</td>\n",
       "      <td>545</td>\n",
       "    </tr>\n",
       "    <tr>\n",
       "      <th>39</th>\n",
       "      <td>39</td>\n",
       "      <td>37</td>\n",
       "      <td>suggestion_accepted</td>\n",
       "      <td>android_ru_east_slavic_zap_separate_comma</td>\n",
       "      <td>1080</td>\n",
       "      <td>597</td>\n",
       "    </tr>\n",
       "    <tr>\n",
       "      <th>30</th>\n",
       "      <td>30</td>\n",
       "      <td>28</td>\n",
       "      <td>suggestion_accepted</td>\n",
       "      <td>android_ru_east_slavic_zap_separate_comma_numb...</td>\n",
       "      <td>1080</td>\n",
       "      <td>880</td>\n",
       "    </tr>\n",
       "    <tr>\n",
       "      <th>76</th>\n",
       "      <td>76</td>\n",
       "      <td>24</td>\n",
       "      <td>accepted</td>\n",
       "      <td>android_ru_east_slavic_zap_separate_comma_numb...</td>\n",
       "      <td>1080</td>\n",
       "      <td>880</td>\n",
       "    </tr>\n",
       "  </tbody>\n",
       "</table>\n",
       "<p>98 rows × 6 columns</p>\n",
       "</div>"
      ],
      "text/plain": [
       "      id  internal_keyboard_id               origin  \\\n",
       "51    51                    49  suggestion_accepted   \n",
       "110  110                    58             accepted   \n",
       "96    96                    44             accepted   \n",
       "50    50                    48  suggestion_accepted   \n",
       "47    47                    45  suggestion_accepted   \n",
       "..   ...                   ...                  ...   \n",
       "70    70                    18             accepted   \n",
       "71    71                    19             accepted   \n",
       "39    39                    37  suggestion_accepted   \n",
       "30    30                    28  suggestion_accepted   \n",
       "76    76                    24             accepted   \n",
       "\n",
       "                                                  type  width  height  \n",
       "51          android_ru_east_slavic_4row_separate_comma   1080     735  \n",
       "110         android_ru_east_slavic_4row_separate_comma   1080     735  \n",
       "96   android_ru_east_slavic_4row_separate_comma_num...   1080     894  \n",
       "50   android_ru_east_slavic_4row_separate_comma_num...    908     672  \n",
       "47   android_ru_east_slavic_birmanru_extra_cyrillic...   1080     718  \n",
       "..                                                 ...    ...     ...  \n",
       "70   android_ru_east_slavic_ycuk_srow_num_separate_...   1080     774  \n",
       "71           android_ru_east_slavic_zap_separate_comma   1080     545  \n",
       "39           android_ru_east_slavic_zap_separate_comma   1080     597  \n",
       "30   android_ru_east_slavic_zap_separate_comma_numb...   1080     880  \n",
       "76   android_ru_east_slavic_zap_separate_comma_numb...   1080     880  \n",
       "\n",
       "[98 rows x 6 columns]"
      ]
     },
     "execution_count": 9,
     "metadata": {},
     "output_type": "execute_result"
    }
   ],
   "source": [
    "df_keyboards[df_keyboards['type'].duplicated(keep=False)].sort_values(by='type')"
   ]
  },
  {
   "cell_type": "code",
   "execution_count": 10,
   "id": "ac157af2",
   "metadata": {
    "execution": {
     "iopub.execute_input": "2023-10-28T14:09:14.476349Z",
     "iopub.status.busy": "2023-10-28T14:09:14.475916Z",
     "iopub.status.idle": "2023-10-28T14:09:14.500453Z",
     "shell.execute_reply": "2023-10-28T14:09:14.499523Z"
    },
    "papermill": {
     "duration": 0.047683,
     "end_time": "2023-10-28T14:09:14.503066",
     "exception": false,
     "start_time": "2023-10-28T14:09:14.455383",
     "status": "completed"
    },
    "tags": []
   },
   "outputs": [],
   "source": [
    "df_keys = pd.read_csv(os.path.join(data_dir, 'keys_full.csv'))"
   ]
  },
  {
   "cell_type": "code",
   "execution_count": 11,
   "id": "8ca2bb82",
   "metadata": {
    "execution": {
     "iopub.execute_input": "2023-10-28T14:09:14.543756Z",
     "iopub.status.busy": "2023-10-28T14:09:14.543349Z",
     "iopub.status.idle": "2023-10-28T14:09:14.555467Z",
     "shell.execute_reply": "2023-10-28T14:09:14.554611Z"
    },
    "papermill": {
     "duration": 0.035211,
     "end_time": "2023-10-28T14:09:14.557449",
     "exception": false,
     "start_time": "2023-10-28T14:09:14.522238",
     "status": "completed"
    },
    "tags": []
   },
   "outputs": [
    {
     "data": {
      "text/html": [
       "<div>\n",
       "<style scoped>\n",
       "    .dataframe tbody tr th:only-of-type {\n",
       "        vertical-align: middle;\n",
       "    }\n",
       "\n",
       "    .dataframe tbody tr th {\n",
       "        vertical-align: top;\n",
       "    }\n",
       "\n",
       "    .dataframe thead th {\n",
       "        text-align: right;\n",
       "    }\n",
       "</style>\n",
       "<table border=\"1\" class=\"dataframe\">\n",
       "  <thead>\n",
       "    <tr style=\"text-align: right;\">\n",
       "      <th></th>\n",
       "      <th>keyboard_id</th>\n",
       "      <th>label</th>\n",
       "      <th>is_action</th>\n",
       "      <th>hitbox_x</th>\n",
       "      <th>hitbox_y</th>\n",
       "      <th>hitbox_w</th>\n",
       "      <th>hitbox_h</th>\n",
       "    </tr>\n",
       "  </thead>\n",
       "  <tbody>\n",
       "    <tr>\n",
       "      <th>0</th>\n",
       "      <td>0</td>\n",
       "      <td>й</td>\n",
       "      <td>False</td>\n",
       "      <td>0</td>\n",
       "      <td>15</td>\n",
       "      <td>99</td>\n",
       "      <td>154</td>\n",
       "    </tr>\n",
       "    <tr>\n",
       "      <th>1</th>\n",
       "      <td>0</td>\n",
       "      <td>ц</td>\n",
       "      <td>False</td>\n",
       "      <td>98</td>\n",
       "      <td>15</td>\n",
       "      <td>99</td>\n",
       "      <td>154</td>\n",
       "    </tr>\n",
       "    <tr>\n",
       "      <th>2</th>\n",
       "      <td>0</td>\n",
       "      <td>у</td>\n",
       "      <td>False</td>\n",
       "      <td>196</td>\n",
       "      <td>15</td>\n",
       "      <td>100</td>\n",
       "      <td>154</td>\n",
       "    </tr>\n",
       "    <tr>\n",
       "      <th>3</th>\n",
       "      <td>0</td>\n",
       "      <td>к</td>\n",
       "      <td>False</td>\n",
       "      <td>295</td>\n",
       "      <td>15</td>\n",
       "      <td>99</td>\n",
       "      <td>154</td>\n",
       "    </tr>\n",
       "    <tr>\n",
       "      <th>4</th>\n",
       "      <td>0</td>\n",
       "      <td>е</td>\n",
       "      <td>False</td>\n",
       "      <td>393</td>\n",
       "      <td>15</td>\n",
       "      <td>99</td>\n",
       "      <td>154</td>\n",
       "    </tr>\n",
       "  </tbody>\n",
       "</table>\n",
       "</div>"
      ],
      "text/plain": [
       "   keyboard_id label  is_action  hitbox_x  hitbox_y  hitbox_w  hitbox_h\n",
       "0            0     й      False         0        15        99       154\n",
       "1            0     ц      False        98        15        99       154\n",
       "2            0     у      False       196        15       100       154\n",
       "3            0     к      False       295        15        99       154\n",
       "4            0     е      False       393        15        99       154"
      ]
     },
     "execution_count": 11,
     "metadata": {},
     "output_type": "execute_result"
    }
   ],
   "source": [
    "df_keys.head()"
   ]
  },
  {
   "cell_type": "markdown",
   "id": "ac49059c",
   "metadata": {
    "papermill": {
     "duration": 0.01924,
     "end_time": "2023-10-28T14:09:14.596502",
     "exception": false,
     "start_time": "2023-10-28T14:09:14.577262",
     "status": "completed"
    },
    "tags": []
   },
   "source": [
    "Самые \"популярные\" буквы - в,ь,т,с,л,п,б,к,е,з,ш,н."
   ]
  },
  {
   "cell_type": "code",
   "execution_count": 12,
   "id": "16790903",
   "metadata": {
    "execution": {
     "iopub.execute_input": "2023-10-28T14:09:14.637289Z",
     "iopub.status.busy": "2023-10-28T14:09:14.636622Z",
     "iopub.status.idle": "2023-10-28T14:09:14.647317Z",
     "shell.execute_reply": "2023-10-28T14:09:14.646024Z"
    },
    "papermill": {
     "duration": 0.033863,
     "end_time": "2023-10-28T14:09:14.649679",
     "exception": false,
     "start_time": "2023-10-28T14:09:14.615816",
     "status": "completed"
    },
    "tags": []
   },
   "outputs": [
    {
     "data": {
      "text/plain": [
       "label\n",
       "￻     137\n",
       "�     137\n",
       "\\n    137\n",
       "      137\n",
       ".     135\n",
       "￿     134\n",
       ",     125\n",
       "в     107\n",
       "ь     107\n",
       "т     107\n",
       "с     107\n",
       "л     107\n",
       "п     107\n",
       "б     107\n",
       "к     107\n",
       "е     107\n",
       "з     107\n",
       "ш     107\n",
       "н     107\n",
       "я     106\n",
       "д     105\n",
       "г     103\n",
       "ф     103\n",
       "м     103\n",
       "о     103\n",
       "Name: count, dtype: int64"
      ]
     },
     "execution_count": 12,
     "metadata": {},
     "output_type": "execute_result"
    }
   ],
   "source": [
    "df_keys['label'].value_counts().head(25)"
   ]
  },
  {
   "cell_type": "markdown",
   "id": "43e3dc7e",
   "metadata": {
    "papermill": {
     "duration": 0.018772,
     "end_time": "2023-10-28T14:09:14.687541",
     "exception": false,
     "start_time": "2023-10-28T14:09:14.668769",
     "status": "completed"
    },
    "tags": []
   },
   "source": [
    "Ч - самая притесняемая"
   ]
  },
  {
   "cell_type": "code",
   "execution_count": 13,
   "id": "75cd9138",
   "metadata": {
    "execution": {
     "iopub.execute_input": "2023-10-28T14:09:14.728388Z",
     "iopub.status.busy": "2023-10-28T14:09:14.727966Z",
     "iopub.status.idle": "2023-10-28T14:09:14.739405Z",
     "shell.execute_reply": "2023-10-28T14:09:14.738248Z"
    },
    "papermill": {
     "duration": 0.034986,
     "end_time": "2023-10-28T14:09:14.741876",
     "exception": false,
     "start_time": "2023-10-28T14:09:14.706890",
     "status": "completed"
    },
    "tags": []
   },
   "outputs": [
    {
     "data": {
      "text/plain": [
       "label\n",
       "р    103\n",
       "и    102\n",
       "у    101\n",
       "а    101\n",
       "ж     97\n",
       "х     95\n",
       "ю     82\n",
       "?     81\n",
       "й     81\n",
       "ы     80\n",
       "э     79\n",
       "ч     78\n",
       "￶     77\n",
       "1     75\n",
       "3     75\n",
       "0     75\n",
       "9     75\n",
       "8     75\n",
       "7     75\n",
       "6     75\n",
       "/     75\n",
       "5     75\n",
       "4     75\n",
       "2     75\n",
       "!     72\n",
       "Name: count, dtype: int64"
      ]
     },
     "execution_count": 13,
     "metadata": {},
     "output_type": "execute_result"
    }
   ],
   "source": [
    "df_keys['label'].value_counts().head(51).tail(25)"
   ]
  },
  {
   "cell_type": "markdown",
   "id": "e47a29ea",
   "metadata": {
    "papermill": {
     "duration": 0.019364,
     "end_time": "2023-10-28T14:09:14.780821",
     "exception": false,
     "start_time": "2023-10-28T14:09:14.761457",
     "status": "completed"
    },
    "tags": []
   },
   "source": [
    "Читаем файлы через `read_parquet`"
   ]
  },
  {
   "cell_type": "code",
   "execution_count": 14,
   "id": "d0b1ab79",
   "metadata": {
    "execution": {
     "iopub.execute_input": "2023-10-28T14:09:14.821946Z",
     "iopub.status.busy": "2023-10-28T14:09:14.821535Z",
     "iopub.status.idle": "2023-10-28T14:09:27.521619Z",
     "shell.execute_reply": "2023-10-28T14:09:27.520250Z"
    },
    "papermill": {
     "duration": 12.724179,
     "end_time": "2023-10-28T14:09:27.524576",
     "exception": false,
     "start_time": "2023-10-28T14:09:14.800397",
     "status": "completed"
    },
    "tags": []
   },
   "outputs": [
    {
     "name": "stdout",
     "output_type": "stream",
     "text": [
      "CPU times: user 8.27 s, sys: 13.7 s, total: 21.9 s\n",
      "Wall time: 12.7 s\n"
     ]
    }
   ],
   "source": [
    "%%time\n",
    "df_train_curves = pd.read_parquet(os.path.join(data_dir, 'train_curves.parquet'))\n",
    "df_train_curves_info = pd.read_parquet(os.path.join(data_dir, 'train_curves_info.parquet'))"
   ]
  },
  {
   "cell_type": "code",
   "execution_count": 15,
   "id": "7ca508b8",
   "metadata": {
    "execution": {
     "iopub.execute_input": "2023-10-28T14:09:27.566818Z",
     "iopub.status.busy": "2023-10-28T14:09:27.565744Z",
     "iopub.status.idle": "2023-10-28T14:09:27.577372Z",
     "shell.execute_reply": "2023-10-28T14:09:27.576096Z"
    },
    "papermill": {
     "duration": 0.035443,
     "end_time": "2023-10-28T14:09:27.579832",
     "exception": false,
     "start_time": "2023-10-28T14:09:27.544389",
     "status": "completed"
    },
    "tags": []
   },
   "outputs": [
    {
     "data": {
      "text/html": [
       "<div>\n",
       "<style scoped>\n",
       "    .dataframe tbody tr th:only-of-type {\n",
       "        vertical-align: middle;\n",
       "    }\n",
       "\n",
       "    .dataframe tbody tr th {\n",
       "        vertical-align: top;\n",
       "    }\n",
       "\n",
       "    .dataframe thead th {\n",
       "        text-align: right;\n",
       "    }\n",
       "</style>\n",
       "<table border=\"1\" class=\"dataframe\">\n",
       "  <thead>\n",
       "    <tr style=\"text-align: right;\">\n",
       "      <th></th>\n",
       "      <th>curve_id</th>\n",
       "      <th>keyboard_id</th>\n",
       "      <th>word_index</th>\n",
       "    </tr>\n",
       "  </thead>\n",
       "  <tbody>\n",
       "    <tr>\n",
       "      <th>0</th>\n",
       "      <td>0</td>\n",
       "      <td>0</td>\n",
       "      <td>399201</td>\n",
       "    </tr>\n",
       "    <tr>\n",
       "      <th>1</th>\n",
       "      <td>1</td>\n",
       "      <td>0</td>\n",
       "      <td>286306</td>\n",
       "    </tr>\n",
       "    <tr>\n",
       "      <th>2</th>\n",
       "      <td>2</td>\n",
       "      <td>0</td>\n",
       "      <td>360441</td>\n",
       "    </tr>\n",
       "    <tr>\n",
       "      <th>3</th>\n",
       "      <td>3</td>\n",
       "      <td>0</td>\n",
       "      <td>150496</td>\n",
       "    </tr>\n",
       "    <tr>\n",
       "      <th>4</th>\n",
       "      <td>4</td>\n",
       "      <td>0</td>\n",
       "      <td>150496</td>\n",
       "    </tr>\n",
       "  </tbody>\n",
       "</table>\n",
       "</div>"
      ],
      "text/plain": [
       "   curve_id  keyboard_id  word_index\n",
       "0         0            0      399201\n",
       "1         1            0      286306\n",
       "2         2            0      360441\n",
       "3         3            0      150496\n",
       "4         4            0      150496"
      ]
     },
     "execution_count": 15,
     "metadata": {},
     "output_type": "execute_result"
    }
   ],
   "source": [
    "df_train_curves_info.head()"
   ]
  },
  {
   "cell_type": "code",
   "execution_count": 16,
   "id": "be379c6f",
   "metadata": {
    "execution": {
     "iopub.execute_input": "2023-10-28T14:09:27.625176Z",
     "iopub.status.busy": "2023-10-28T14:09:27.624650Z",
     "iopub.status.idle": "2023-10-28T14:09:27.650167Z",
     "shell.execute_reply": "2023-10-28T14:09:27.649083Z"
    },
    "papermill": {
     "duration": 0.052623,
     "end_time": "2023-10-28T14:09:27.653613",
     "exception": false,
     "start_time": "2023-10-28T14:09:27.600990",
     "status": "completed"
    },
    "tags": []
   },
   "outputs": [
    {
     "name": "stdout",
     "output_type": "stream",
     "text": [
      "<class 'pandas.core.frame.DataFrame'>\n",
      "RangeIndex: 6000000 entries, 0 to 5999999\n",
      "Data columns (total 3 columns):\n",
      " #   Column       Dtype\n",
      "---  ------       -----\n",
      " 0   curve_id     int32\n",
      " 1   keyboard_id  int32\n",
      " 2   word_index   int32\n",
      "dtypes: int32(3)\n",
      "memory usage: 68.7 MB\n"
     ]
    }
   ],
   "source": [
    "df_train_curves_info.info(memory_usage='deep')"
   ]
  },
  {
   "cell_type": "code",
   "execution_count": 17,
   "id": "8b01c8d5",
   "metadata": {
    "execution": {
     "iopub.execute_input": "2023-10-28T14:09:27.699257Z",
     "iopub.status.busy": "2023-10-28T14:09:27.698426Z",
     "iopub.status.idle": "2023-10-28T14:09:27.710051Z",
     "shell.execute_reply": "2023-10-28T14:09:27.708804Z"
    },
    "papermill": {
     "duration": 0.036059,
     "end_time": "2023-10-28T14:09:27.712603",
     "exception": false,
     "start_time": "2023-10-28T14:09:27.676544",
     "status": "completed"
    },
    "tags": []
   },
   "outputs": [
    {
     "data": {
      "text/html": [
       "<div>\n",
       "<style scoped>\n",
       "    .dataframe tbody tr th:only-of-type {\n",
       "        vertical-align: middle;\n",
       "    }\n",
       "\n",
       "    .dataframe tbody tr th {\n",
       "        vertical-align: top;\n",
       "    }\n",
       "\n",
       "    .dataframe thead th {\n",
       "        text-align: right;\n",
       "    }\n",
       "</style>\n",
       "<table border=\"1\" class=\"dataframe\">\n",
       "  <thead>\n",
       "    <tr style=\"text-align: right;\">\n",
       "      <th></th>\n",
       "      <th>curve_id</th>\n",
       "      <th>x</th>\n",
       "      <th>y</th>\n",
       "      <th>t</th>\n",
       "    </tr>\n",
       "  </thead>\n",
       "  <tbody>\n",
       "    <tr>\n",
       "      <th>0</th>\n",
       "      <td>0</td>\n",
       "      <td>306</td>\n",
       "      <td>398</td>\n",
       "      <td>0</td>\n",
       "    </tr>\n",
       "    <tr>\n",
       "      <th>1</th>\n",
       "      <td>0</td>\n",
       "      <td>306</td>\n",
       "      <td>398</td>\n",
       "      <td>7</td>\n",
       "    </tr>\n",
       "    <tr>\n",
       "      <th>2</th>\n",
       "      <td>0</td>\n",
       "      <td>307</td>\n",
       "      <td>398</td>\n",
       "      <td>24</td>\n",
       "    </tr>\n",
       "    <tr>\n",
       "      <th>3</th>\n",
       "      <td>0</td>\n",
       "      <td>316</td>\n",
       "      <td>395</td>\n",
       "      <td>62</td>\n",
       "    </tr>\n",
       "    <tr>\n",
       "      <th>4</th>\n",
       "      <td>0</td>\n",
       "      <td>337</td>\n",
       "      <td>391</td>\n",
       "      <td>64</td>\n",
       "    </tr>\n",
       "  </tbody>\n",
       "</table>\n",
       "</div>"
      ],
      "text/plain": [
       "   curve_id    x    y   t\n",
       "0         0  306  398   0\n",
       "1         0  306  398   7\n",
       "2         0  307  398  24\n",
       "3         0  316  395  62\n",
       "4         0  337  391  64"
      ]
     },
     "execution_count": 17,
     "metadata": {},
     "output_type": "execute_result"
    }
   ],
   "source": [
    "df_train_curves.head()"
   ]
  },
  {
   "cell_type": "code",
   "execution_count": 18,
   "id": "6c1e6394",
   "metadata": {
    "execution": {
     "iopub.execute_input": "2023-10-28T14:09:27.754991Z",
     "iopub.status.busy": "2023-10-28T14:09:27.754593Z",
     "iopub.status.idle": "2023-10-28T14:09:27.773382Z",
     "shell.execute_reply": "2023-10-28T14:09:27.772150Z"
    },
    "papermill": {
     "duration": 0.043829,
     "end_time": "2023-10-28T14:09:27.776671",
     "exception": false,
     "start_time": "2023-10-28T14:09:27.732842",
     "status": "completed"
    },
    "tags": []
   },
   "outputs": [
    {
     "name": "stdout",
     "output_type": "stream",
     "text": [
      "<class 'pandas.core.frame.DataFrame'>\n",
      "RangeIndex: 285892335 entries, 0 to 285892334\n",
      "Data columns (total 4 columns):\n",
      " #   Column    Dtype\n",
      "---  ------    -----\n",
      " 0   curve_id  int32\n",
      " 1   x         int32\n",
      " 2   y         int32\n",
      " 3   t         int32\n",
      "dtypes: int32(4)\n",
      "memory usage: 4.3 GB\n"
     ]
    }
   ],
   "source": [
    "df_train_curves.info(memory_usage='deep')"
   ]
  },
  {
   "cell_type": "markdown",
   "id": "d973663b",
   "metadata": {
    "papermill": {
     "duration": 0.020106,
     "end_time": "2023-10-28T14:09:27.829983",
     "exception": false,
     "start_time": "2023-10-28T14:09:27.809877",
     "status": "completed"
    },
    "tags": []
   },
   "source": [
    "Дополнительные файлы"
   ]
  },
  {
   "cell_type": "code",
   "execution_count": 19,
   "id": "4f350fef",
   "metadata": {
    "execution": {
     "iopub.execute_input": "2023-10-28T14:09:27.873023Z",
     "iopub.status.busy": "2023-10-28T14:09:27.872553Z",
     "iopub.status.idle": "2023-10-28T14:10:03.530678Z",
     "shell.execute_reply": "2023-10-28T14:10:03.529732Z"
    },
    "papermill": {
     "duration": 35.702354,
     "end_time": "2023-10-28T14:10:03.553030",
     "exception": false,
     "start_time": "2023-10-28T14:09:27.850676",
     "status": "completed"
    },
    "tags": []
   },
   "outputs": [
    {
     "name": "stdout",
     "output_type": "stream",
     "text": [
      "CPU times: user 23.5 s, sys: 34.6 s, total: 58.1 s\n",
      "Wall time: 35.6 s\n"
     ]
    }
   ],
   "source": [
    "%%time\n",
    "df_acc_curves = pd.read_parquet(os.path.join(data_dir, 'accepted_curves.parquet'))\n",
    "df_acc_curves_info = pd.read_parquet(os.path.join(data_dir, 'accepted_curves_info.parquet'))\n",
    "df_sug_curves = pd.read_parquet(os.path.join(data_dir, 'suggestion_accepted_curves.parquet'))\n",
    "df_sug_curves_info = pd.read_parquet(os.path.join(data_dir, 'suggestion_accepted_curves_info.parquet'))"
   ]
  },
  {
   "cell_type": "code",
   "execution_count": 20,
   "id": "2d56a812",
   "metadata": {
    "execution": {
     "iopub.execute_input": "2023-10-28T14:10:03.595229Z",
     "iopub.status.busy": "2023-10-28T14:10:03.594772Z",
     "iopub.status.idle": "2023-10-28T14:10:03.605322Z",
     "shell.execute_reply": "2023-10-28T14:10:03.603570Z"
    },
    "papermill": {
     "duration": 0.034284,
     "end_time": "2023-10-28T14:10:03.607481",
     "exception": false,
     "start_time": "2023-10-28T14:10:03.573197",
     "status": "completed"
    },
    "tags": []
   },
   "outputs": [
    {
     "name": "stdout",
     "output_type": "stream",
     "text": [
      "<class 'pandas.core.frame.DataFrame'>\n",
      "RangeIndex: 591472683 entries, 0 to 591472682\n",
      "Data columns (total 4 columns):\n",
      " #   Column    Dtype\n",
      "---  ------    -----\n",
      " 0   curve_id  int32\n",
      " 1   x         int32\n",
      " 2   y         int32\n",
      " 3   t         int32\n",
      "dtypes: int32(4)\n",
      "memory usage: 8.8 GB\n"
     ]
    }
   ],
   "source": [
    "df_acc_curves.info(memory_usage='deep')"
   ]
  },
  {
   "cell_type": "code",
   "execution_count": 21,
   "id": "7374af07",
   "metadata": {
    "execution": {
     "iopub.execute_input": "2023-10-28T14:10:03.650696Z",
     "iopub.status.busy": "2023-10-28T14:10:03.649600Z",
     "iopub.status.idle": "2023-10-28T14:10:03.658744Z",
     "shell.execute_reply": "2023-10-28T14:10:03.657301Z"
    },
    "papermill": {
     "duration": 0.033016,
     "end_time": "2023-10-28T14:10:03.661088",
     "exception": false,
     "start_time": "2023-10-28T14:10:03.628072",
     "status": "completed"
    },
    "tags": []
   },
   "outputs": [
    {
     "name": "stdout",
     "output_type": "stream",
     "text": [
      "<class 'pandas.core.frame.DataFrame'>\n",
      "RangeIndex: 17584462 entries, 0 to 17584461\n",
      "Data columns (total 3 columns):\n",
      " #   Column       Dtype\n",
      "---  ------       -----\n",
      " 0   curve_id     int32\n",
      " 1   keyboard_id  int32\n",
      " 2   word_index   int32\n",
      "dtypes: int32(3)\n",
      "memory usage: 201.2 MB\n"
     ]
    }
   ],
   "source": [
    "df_acc_curves_info.info(memory_usage='deep')"
   ]
  },
  {
   "cell_type": "code",
   "execution_count": 22,
   "id": "13dcc063",
   "metadata": {
    "execution": {
     "iopub.execute_input": "2023-10-28T14:10:03.705325Z",
     "iopub.status.busy": "2023-10-28T14:10:03.704138Z",
     "iopub.status.idle": "2023-10-28T14:10:03.714929Z",
     "shell.execute_reply": "2023-10-28T14:10:03.713231Z"
    },
    "papermill": {
     "duration": 0.035908,
     "end_time": "2023-10-28T14:10:03.717447",
     "exception": false,
     "start_time": "2023-10-28T14:10:03.681539",
     "status": "completed"
    },
    "tags": []
   },
   "outputs": [
    {
     "name": "stdout",
     "output_type": "stream",
     "text": [
      "<class 'pandas.core.frame.DataFrame'>\n",
      "RangeIndex: 180095456 entries, 0 to 180095455\n",
      "Data columns (total 4 columns):\n",
      " #   Column    Dtype\n",
      "---  ------    -----\n",
      " 0   curve_id  int32\n",
      " 1   x         int32\n",
      " 2   y         int32\n",
      " 3   t         int32\n",
      "dtypes: int32(4)\n",
      "memory usage: 2.7 GB\n"
     ]
    }
   ],
   "source": [
    "df_sug_curves.info(memory_usage='deep')"
   ]
  },
  {
   "cell_type": "code",
   "execution_count": 23,
   "id": "a85af72b",
   "metadata": {
    "execution": {
     "iopub.execute_input": "2023-10-28T14:10:03.762745Z",
     "iopub.status.busy": "2023-10-28T14:10:03.762351Z",
     "iopub.status.idle": "2023-10-28T14:10:03.771217Z",
     "shell.execute_reply": "2023-10-28T14:10:03.769973Z"
    },
    "papermill": {
     "duration": 0.034838,
     "end_time": "2023-10-28T14:10:03.773737",
     "exception": false,
     "start_time": "2023-10-28T14:10:03.738899",
     "status": "completed"
    },
    "tags": []
   },
   "outputs": [
    {
     "name": "stdout",
     "output_type": "stream",
     "text": [
      "<class 'pandas.core.frame.DataFrame'>\n",
      "RangeIndex: 2580884 entries, 0 to 2580883\n",
      "Data columns (total 3 columns):\n",
      " #   Column       Dtype\n",
      "---  ------       -----\n",
      " 0   curve_id     int32\n",
      " 1   keyboard_id  int32\n",
      " 2   word_index   int32\n",
      "dtypes: int32(3)\n",
      "memory usage: 29.5 MB\n"
     ]
    }
   ],
   "source": [
    "df_sug_curves_info.info(memory_usage='deep')"
   ]
  },
  {
   "cell_type": "markdown",
   "id": "2b8de6c6",
   "metadata": {
    "papermill": {
     "duration": 0.020345,
     "end_time": "2023-10-28T14:10:03.814991",
     "exception": false,
     "start_time": "2023-10-28T14:10:03.794646",
     "status": "completed"
    },
    "tags": []
   },
   "source": [
    "Сколько общих слов между `suggestion_accepted` и `accepted`"
   ]
  },
  {
   "cell_type": "code",
   "execution_count": 24,
   "id": "e127e381",
   "metadata": {
    "execution": {
     "iopub.execute_input": "2023-10-28T14:10:03.858051Z",
     "iopub.status.busy": "2023-10-28T14:10:03.857618Z",
     "iopub.status.idle": "2023-10-28T14:10:04.093018Z",
     "shell.execute_reply": "2023-10-28T14:10:04.091754Z"
    },
    "papermill": {
     "duration": 0.260049,
     "end_time": "2023-10-28T14:10:04.095656",
     "exception": false,
     "start_time": "2023-10-28T14:10:03.835607",
     "status": "completed"
    },
    "tags": []
   },
   "outputs": [
    {
     "data": {
      "text/plain": [
       "163782"
      ]
     },
     "execution_count": 24,
     "metadata": {},
     "output_type": "execute_result"
    }
   ],
   "source": [
    "common_words = np.intersect1d(\n",
    "    df_acc_curves_info['word_index'].unique(),\n",
    "    df_sug_curves_info['word_index'].unique()\n",
    ")\n",
    "len(common_words)"
   ]
  },
  {
   "cell_type": "code",
   "execution_count": null,
   "id": "40a04981",
   "metadata": {
    "papermill": {
     "duration": 0.023421,
     "end_time": "2023-10-28T14:10:04.140868",
     "exception": false,
     "start_time": "2023-10-28T14:10:04.117447",
     "status": "completed"
    },
    "tags": []
   },
   "outputs": [],
   "source": []
  }
 ],
 "metadata": {
  "kernelspec": {
   "display_name": "Python 3",
   "language": "python",
   "name": "python3"
  },
  "language_info": {
   "codemirror_mode": {
    "name": "ipython",
    "version": 3
   },
   "file_extension": ".py",
   "mimetype": "text/x-python",
   "name": "python",
   "nbconvert_exporter": "python",
   "pygments_lexer": "ipython3",
   "version": "3.10.12"
  },
  "papermill": {
   "default_parameters": {},
   "duration": 65.520464,
   "end_time": "2023-10-28T14:10:07.377354",
   "environment_variables": {},
   "exception": null,
   "input_path": "__notebook__.ipynb",
   "output_path": "__notebook__.ipynb",
   "parameters": {},
   "start_time": "2023-10-28T14:09:01.856890",
   "version": "2.4.0"
  }
 },
 "nbformat": 4,
 "nbformat_minor": 5
}
